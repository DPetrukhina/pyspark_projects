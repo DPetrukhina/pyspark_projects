{
 "cells": [
  {
   "cell_type": "markdown",
   "metadata": {},
   "source": [
    "# <a id='toc1_'></a>[Анализ удовлетворённости клиентов авиакомпании с помощью PySpark](#toc0_)\n",
    "\n",
    "Цель проекта: определить влияние различных факторов на уровень удавлетворённости клиентов."
   ]
  },
  {
   "cell_type": "markdown",
   "metadata": {},
   "source": [
    "[Ссылка на датасет](https://www.kaggle.com/datasets/sjleshrac/airlines-customer-satisfaction/data)"
   ]
  },
  {
   "cell_type": "markdown",
   "metadata": {},
   "source": [
    "## Загрузка данных"
   ]
  },
  {
   "cell_type": "code",
   "execution_count": 1,
   "metadata": {},
   "outputs": [],
   "source": [
    "# импорт библиотек\n",
    "import pandas as pd\n",
    "import numpy as np\n",
    "import seaborn as sns \n",
    "import matplotlib.pyplot as plt\n",
    "from pyspark.sql import SparkSession\n",
    "from pyspark import SparkConf\n",
    "from pyspark import  SparkContext\n",
    "from pyspark.sql.functions import col, lit\n",
    "from pyspark.sql import functions as F\n",
    "from pyspark.sql.types import IntegerType\n",
    "from pyspark.ml.stat import Correlation\n",
    "from pyspark.ml.feature import VectorAssembler\n",
    "from pyspark.mllib.stat import Statistics\n",
    "from pyspark.mllib.linalg import Vectors"
   ]
  },
  {
   "cell_type": "code",
   "execution_count": 2,
   "metadata": {},
   "outputs": [],
   "source": [
    "spark = SparkSession.builder\\\n",
    "        .master(\"local[*]\")\\\n",
    "        .appName('PySpark_air')\\\n",
    "        .getOrCreate()"
   ]
  },
  {
   "cell_type": "code",
   "execution_count": 3,
   "metadata": {},
   "outputs": [],
   "source": [
    "# чтение CSV файла\n",
    "data = spark.read.csv(\n",
    "    'invistico_airline.csv',\n",
    "    sep=',',\n",
    "    header=True,\n",
    "    inferSchema=True\n",
    ")"
   ]
  },
  {
   "cell_type": "code",
   "execution_count": 4,
   "metadata": {},
   "outputs": [
    {
     "name": "stdout",
     "output_type": "stream",
     "text": [
      "root\n",
      " |-- satisfaction: string (nullable = true)\n",
      " |-- Gender: string (nullable = true)\n",
      " |-- Customer Type: string (nullable = true)\n",
      " |-- Age: integer (nullable = true)\n",
      " |-- Type of Travel: string (nullable = true)\n",
      " |-- Class: string (nullable = true)\n",
      " |-- Flight Distance: integer (nullable = true)\n",
      " |-- Seat comfort: integer (nullable = true)\n",
      " |-- Departure/Arrival time convenient: integer (nullable = true)\n",
      " |-- Food and drink: integer (nullable = true)\n",
      " |-- Gate location: integer (nullable = true)\n",
      " |-- Inflight wifi service: integer (nullable = true)\n",
      " |-- Inflight entertainment: integer (nullable = true)\n",
      " |-- Online support: integer (nullable = true)\n",
      " |-- Ease of Online booking: integer (nullable = true)\n",
      " |-- On-board service: integer (nullable = true)\n",
      " |-- Leg room service: integer (nullable = true)\n",
      " |-- Baggage handling: integer (nullable = true)\n",
      " |-- Checkin service: integer (nullable = true)\n",
      " |-- Cleanliness: integer (nullable = true)\n",
      " |-- Online boarding: integer (nullable = true)\n",
      " |-- Departure Delay in Minutes: integer (nullable = true)\n",
      " |-- Arrival Delay in Minutes: integer (nullable = true)\n",
      "\n"
     ]
    }
   ],
   "source": [
    "data.printSchema() # схема данных"
   ]
  },
  {
   "cell_type": "code",
   "execution_count": 5,
   "metadata": {},
   "outputs": [
    {
     "data": {
      "text/plain": [
       "129880"
      ]
     },
     "execution_count": 5,
     "metadata": {},
     "output_type": "execute_result"
    }
   ],
   "source": [
    "data.count() # число строк"
   ]
  },
  {
   "cell_type": "code",
   "execution_count": 6,
   "metadata": {},
   "outputs": [
    {
     "data": {
      "text/plain": [
       "{'satisfaction': 0,\n",
       " 'Gender': 0,\n",
       " 'Customer Type': 0,\n",
       " 'Age': 0,\n",
       " 'Type of Travel': 0,\n",
       " 'Class': 0,\n",
       " 'Flight Distance': 0,\n",
       " 'Seat comfort': 0,\n",
       " 'Departure/Arrival time convenient': 0,\n",
       " 'Food and drink': 0,\n",
       " 'Gate location': 0,\n",
       " 'Inflight wifi service': 0,\n",
       " 'Inflight entertainment': 0,\n",
       " 'Online support': 0,\n",
       " 'Ease of Online booking': 0,\n",
       " 'On-board service': 0,\n",
       " 'Leg room service': 0,\n",
       " 'Baggage handling': 0,\n",
       " 'Checkin service': 0,\n",
       " 'Cleanliness': 0,\n",
       " 'Online boarding': 0,\n",
       " 'Departure Delay in Minutes': 0,\n",
       " 'Arrival Delay in Minutes': 393}"
      ]
     },
     "execution_count": 6,
     "metadata": {},
     "output_type": "execute_result"
    }
   ],
   "source": [
    "# обзор пропусков\n",
    "Dict_Null = {col:data.filter(data[col].isNull()).count() for col in data.columns}\n",
    "Dict_Null"
   ]
  },
  {
   "cell_type": "markdown",
   "metadata": {},
   "source": [
    "## Проверка данных и предобработка"
   ]
  },
  {
   "cell_type": "code",
   "execution_count": 7,
   "metadata": {},
   "outputs": [
    {
     "name": "stdout",
     "output_type": "stream",
     "text": [
      "+------------+------+--------------+---+---------------+--------+---------------+------------+---------------------------------+--------------+-------------+---------------------+----------------------+--------------+----------------------+----------------+----------------+----------------+---------------+-----------+---------------+--------------------------+------------------------+\n",
      "|satisfaction|gender| customer_type|age| type_of_travel|   class|flight_distance|seat_comfort|departure_arrival_time_convenient|food_and_drink|gate_location|inflight_wifi_service|inflight_entertainment|online_support|ease_of_online_booking|on_board_service|leg_room_service|baggage_handling|checkin_service|cleanliness|online_boarding|departure_delay_in_minutes|arrival_delay_in_minutes|\n",
      "+------------+------+--------------+---+---------------+--------+---------------+------------+---------------------------------+--------------+-------------+---------------------+----------------------+--------------+----------------------+----------------+----------------+----------------+---------------+-----------+---------------+--------------------------+------------------------+\n",
      "|   satisfied|Female|Loyal Customer| 65|Personal Travel|     Eco|            265|           0|                                0|             0|            2|                    2|                     4|             2|                     3|               3|               0|               3|              5|          3|              2|                         0|                       0|\n",
      "|   satisfied|  Male|Loyal Customer| 47|Personal Travel|Business|           2464|           0|                                0|             0|            3|                    0|                     2|             2|                     3|               4|               4|               4|              2|          3|              2|                       310|                     305|\n",
      "+------------+------+--------------+---+---------------+--------+---------------+------------+---------------------------------+--------------+-------------+---------------------+----------------------+--------------+----------------------+----------------+----------------+----------------+---------------+-----------+---------------+--------------------------+------------------------+\n",
      "only showing top 2 rows\n",
      "\n"
     ]
    }
   ],
   "source": [
    "# корректировка названий колонок\n",
    "data = data.select([F.col(x).alias(x.lower()) for x in data.columns])\n",
    "data = data.select([F.col(x).alias(x.replace(' ', '_')) for x in data.columns])\n",
    "data = data.select([F.col(x).alias(x.replace('/', '_')) for x in data.columns])\n",
    "data = data.select([F.col(x).alias(x.replace('-', '_')) for x in data.columns])\n",
    "data.show(2)"
   ]
  },
  {
   "cell_type": "markdown",
   "metadata": {},
   "source": [
    "## Работа с пропусками"
   ]
  },
  {
   "cell_type": "code",
   "execution_count": 8,
   "metadata": {},
   "outputs": [],
   "source": [
    "data = data.na.fill(0) # замена пропусков нулями"
   ]
  },
  {
   "cell_type": "code",
   "execution_count": 9,
   "metadata": {},
   "outputs": [
    {
     "data": {
      "text/plain": [
       "{'satisfaction': 0,\n",
       " 'gender': 0,\n",
       " 'customer_type': 0,\n",
       " 'age': 0,\n",
       " 'type_of_travel': 0,\n",
       " 'class': 0,\n",
       " 'flight_distance': 0,\n",
       " 'seat_comfort': 0,\n",
       " 'departure_arrival_time_convenient': 0,\n",
       " 'food_and_drink': 0,\n",
       " 'gate_location': 0,\n",
       " 'inflight_wifi_service': 0,\n",
       " 'inflight_entertainment': 0,\n",
       " 'online_support': 0,\n",
       " 'ease_of_online_booking': 0,\n",
       " 'on_board_service': 0,\n",
       " 'leg_room_service': 0,\n",
       " 'baggage_handling': 0,\n",
       " 'checkin_service': 0,\n",
       " 'cleanliness': 0,\n",
       " 'online_boarding': 0,\n",
       " 'departure_delay_in_minutes': 0,\n",
       " 'arrival_delay_in_minutes': 0}"
      ]
     },
     "execution_count": 9,
     "metadata": {},
     "output_type": "execute_result"
    }
   ],
   "source": [
    "# проверка пропусков\n",
    "Dict_Null = {col:data.filter(data[col].isNull()).count() for col in data.columns}\n",
    "Dict_Null"
   ]
  },
  {
   "cell_type": "markdown",
   "metadata": {},
   "source": [
    "## Проверка данных"
   ]
  },
  {
   "cell_type": "code",
   "execution_count": 10,
   "metadata": {},
   "outputs": [
    {
     "data": {
      "text/plain": [
       "[Row(satisfaction='satisfied', gender='Female', customer_type='Loyal Customer', age=65, type_of_travel='Personal Travel', class='Eco', flight_distance=265, seat_comfort=0, departure_arrival_time_convenient=0, food_and_drink=0, gate_location=2, inflight_wifi_service=2, inflight_entertainment=4, online_support=2, ease_of_online_booking=3, on_board_service=3, leg_room_service=0, baggage_handling=3, checkin_service=5, cleanliness=3, online_boarding=2, departure_delay_in_minutes=0, arrival_delay_in_minutes=0),\n",
       " Row(satisfaction='satisfied', gender='Male', customer_type='Loyal Customer', age=47, type_of_travel='Personal Travel', class='Business', flight_distance=2464, seat_comfort=0, departure_arrival_time_convenient=0, food_and_drink=0, gate_location=3, inflight_wifi_service=0, inflight_entertainment=2, online_support=2, ease_of_online_booking=3, on_board_service=4, leg_room_service=4, baggage_handling=4, checkin_service=2, cleanliness=3, online_boarding=2, departure_delay_in_minutes=310, arrival_delay_in_minutes=305),\n",
       " Row(satisfaction='satisfied', gender='Female', customer_type='Loyal Customer', age=15, type_of_travel='Personal Travel', class='Eco', flight_distance=2138, seat_comfort=0, departure_arrival_time_convenient=0, food_and_drink=0, gate_location=3, inflight_wifi_service=2, inflight_entertainment=0, online_support=2, ease_of_online_booking=2, on_board_service=3, leg_room_service=3, baggage_handling=4, checkin_service=4, cleanliness=4, online_boarding=2, departure_delay_in_minutes=0, arrival_delay_in_minutes=0)]"
      ]
     },
     "execution_count": 10,
     "metadata": {},
     "output_type": "execute_result"
    }
   ],
   "source": [
    "data.head(3) # шапка таблицы"
   ]
  },
  {
   "cell_type": "code",
   "execution_count": 11,
   "metadata": {},
   "outputs": [
    {
     "name": "stdout",
     "output_type": "stream",
     "text": [
      "+-------+------------+------+-----------------+------------------+---------------+--------+-----------------+-----------------+---------------------------------+------------------+------------------+---------------------+----------------------+------------------+----------------------+------------------+------------------+-----------------+------------------+------------------+------------------+--------------------------+------------------------+\n",
      "|summary|satisfaction|gender|    customer_type|               age| type_of_travel|   class|  flight_distance|     seat_comfort|departure_arrival_time_convenient|    food_and_drink|     gate_location|inflight_wifi_service|inflight_entertainment|    online_support|ease_of_online_booking|  on_board_service|  leg_room_service| baggage_handling|   checkin_service|       cleanliness|   online_boarding|departure_delay_in_minutes|arrival_delay_in_minutes|\n",
      "+-------+------------+------+-----------------+------------------+---------------+--------+-----------------+-----------------+---------------------------------+------------------+------------------+---------------------+----------------------+------------------+----------------------+------------------+------------------+-----------------+------------------+------------------+------------------+--------------------------+------------------------+\n",
      "|  count|      129880|129880|           129880|            129880|         129880|  129880|           129880|           129880|                           129880|            129880|            129880|               129880|                129880|            129880|                129880|            129880|            129880|           129880|            129880|            129880|            129880|                    129880|                  129880|\n",
      "|   mean|        NULL|  NULL|             NULL| 39.42795657530028|           NULL|    NULL|1981.409054511857|2.838597166615337|                2.990645210963967| 2.851994148444718| 2.990421927933477|   3.2491299661225748|    3.3834770557437635| 3.519702802587003|    3.4721050200184784| 3.465075454265476| 3.485902371419772|3.695672928857407|3.3408068986757007|3.7057591623036648|3.3525870033877427|        14.713712657838004|      15.045465044656606|\n",
      "| stddev|        NULL|  NULL|             NULL|15.119359950371694|           NULL|    NULL|1027.115605613396|1.392983243269908|               1.5272243703451154|1.4437293865730398|1.3059698939850481|   1.3188175196680627|    1.3460591444981043|1.3065106903517547|     1.305559648028587|1.2708355823355144|1.2922259830022584|1.156483396739701| 1.260582284954589|1.1517739117986914|1.2987145021407451|         38.07112621503648|       38.41635271637792|\n",
      "|    min|dissatisfied|Female|   Loyal Customer|                 7|Business travel|Business|               50|                0|                                0|                 0|                 0|                    0|                     0|                 0|                     0|                 0|                 0|                1|                 0|                 0|                 0|                         0|                       0|\n",
      "|    max|   satisfied|  Male|disloyal Customer|                85|Personal Travel|Eco Plus|             6951|                5|                                5|                 5|                 5|                    5|                     5|                 5|                     5|                 5|                 5|                5|                 5|                 5|                 5|                      1592|                    1584|\n",
      "+-------+------------+------+-----------------+------------------+---------------+--------+-----------------+-----------------+---------------------------------+------------------+------------------+---------------------+----------------------+------------------+----------------------+------------------+------------------+-----------------+------------------+------------------+------------------+--------------------------+------------------------+\n",
      "\n"
     ]
    }
   ],
   "source": [
    "data.describe().show() # описательная статистика"
   ]
  },
  {
   "cell_type": "code",
   "execution_count": 12,
   "metadata": {},
   "outputs": [
    {
     "data": {
      "text/plain": [
       "satisfaction                            2\n",
       "gender                                  2\n",
       "customer_type                           2\n",
       "age                                    75\n",
       "type_of_travel                          2\n",
       "class                                   3\n",
       "flight_distance                      5398\n",
       "seat_comfort                            6\n",
       "departure_arrival_time_convenient       6\n",
       "food_and_drink                          6\n",
       "gate_location                           6\n",
       "inflight_wifi_service                   6\n",
       "inflight_entertainment                  6\n",
       "online_support                          6\n",
       "ease_of_online_booking                  6\n",
       "on_board_service                        6\n",
       "leg_room_service                        6\n",
       "baggage_handling                        5\n",
       "checkin_service                         6\n",
       "cleanliness                             6\n",
       "online_boarding                         6\n",
       "departure_delay_in_minutes            466\n",
       "arrival_delay_in_minutes              472\n",
       "dtype: int64"
      ]
     },
     "execution_count": 12,
     "metadata": {},
     "output_type": "execute_result"
    }
   ],
   "source": [
    "data.toPandas().nunique() # число уникальных значений"
   ]
  },
  {
   "cell_type": "code",
   "execution_count": 13,
   "metadata": {},
   "outputs": [
    {
     "data": {
      "text/plain": [
       "satisfaction\n",
       "satisfied       71087\n",
       "dissatisfied    58793\n",
       "Name: count, dtype: int64"
      ]
     },
     "execution_count": 13,
     "metadata": {},
     "output_type": "execute_result"
    }
   ],
   "source": [
    "data.toPandas()['satisfaction'].value_counts() # распределение основного показателя"
   ]
  },
  {
   "cell_type": "markdown",
   "metadata": {},
   "source": [
    "Удовлетворённые клиенты преобладают"
   ]
  },
  {
   "cell_type": "code",
   "execution_count": 14,
   "metadata": {},
   "outputs": [
    {
     "name": "stdout",
     "output_type": "stream",
     "text": [
      "+------------+------+--------------+---+---------------+--------+---------------+------------+---------------------------------+--------------+-------------+---------------------+----------------------+--------------+----------------------+----------------+----------------+----------------+---------------+-----------+---------------+--------------------------+------------------------+-----+\n",
      "|satisfaction|gender| customer_type|age| type_of_travel|   class|flight_distance|seat_comfort|departure_arrival_time_convenient|food_and_drink|gate_location|inflight_wifi_service|inflight_entertainment|online_support|ease_of_online_booking|on_board_service|leg_room_service|baggage_handling|checkin_service|cleanliness|online_boarding|departure_delay_in_minutes|arrival_delay_in_minutes|total|\n",
      "+------------+------+--------------+---+---------------+--------+---------------+------------+---------------------------------+--------------+-------------+---------------------+----------------------+--------------+----------------------+----------------+----------------+----------------+---------------+-----------+---------------+--------------------------+------------------------+-----+\n",
      "|   satisfied|Female|Loyal Customer| 65|Personal Travel|     Eco|            265|           0|                                0|             0|            2|                    2|                     4|             2|                     3|               3|               0|               3|              5|          3|              2|                         0|                       0|   29|\n",
      "|   satisfied|  Male|Loyal Customer| 47|Personal Travel|Business|           2464|           0|                                0|             0|            3|                    0|                     2|             2|                     3|               4|               4|               4|              2|          3|              2|                       310|                     305|   29|\n",
      "|   satisfied|Female|Loyal Customer| 15|Personal Travel|     Eco|           2138|           0|                                0|             0|            3|                    2|                     0|             2|                     2|               3|               3|               4|              4|          4|              2|                         0|                       0|   29|\n",
      "|   satisfied|Female|Loyal Customer| 60|Personal Travel|     Eco|            623|           0|                                0|             0|            3|                    3|                     4|             3|                     1|               1|               0|               1|              4|          1|              3|                         0|                       0|   24|\n",
      "|   satisfied|Female|Loyal Customer| 70|Personal Travel|     Eco|            354|           0|                                0|             0|            3|                    4|                     3|             4|                     2|               2|               0|               2|              4|          2|              5|                         0|                       0|   31|\n",
      "+------------+------+--------------+---+---------------+--------+---------------+------------+---------------------------------+--------------+-------------+---------------------+----------------------+--------------+----------------------+----------------+----------------+----------------+---------------+-----------+---------------+--------------------------+------------------------+-----+\n",
      "only showing top 5 rows\n",
      "\n"
     ]
    }
   ],
   "source": [
    "# расчёт совокупной метрики\n",
    "data = data.withColumn('total', data.seat_comfort + data.departure_arrival_time_convenient + \\\n",
    "               data.food_and_drink + data.gate_location + data.inflight_wifi_service + \\\n",
    "               data.inflight_entertainment + data.online_support + data.ease_of_online_booking + \\\n",
    "               data.on_board_service + data.leg_room_service + data.baggage_handling + \\\n",
    "               data.checkin_service + data.cleanliness + data.online_boarding)\n",
    "data.show(5)"
   ]
  },
  {
   "cell_type": "code",
   "execution_count": 15,
   "metadata": {},
   "outputs": [
    {
     "data": {
      "text/plain": [
       "[('satisfaction', 'string'),\n",
       " ('gender', 'string'),\n",
       " ('customer_type', 'string'),\n",
       " ('age', 'int'),\n",
       " ('type_of_travel', 'string'),\n",
       " ('class', 'string'),\n",
       " ('flight_distance', 'int'),\n",
       " ('seat_comfort', 'int'),\n",
       " ('departure_arrival_time_convenient', 'int'),\n",
       " ('food_and_drink', 'int'),\n",
       " ('gate_location', 'int'),\n",
       " ('inflight_wifi_service', 'int'),\n",
       " ('inflight_entertainment', 'int'),\n",
       " ('online_support', 'int'),\n",
       " ('ease_of_online_booking', 'int'),\n",
       " ('on_board_service', 'int'),\n",
       " ('leg_room_service', 'int'),\n",
       " ('baggage_handling', 'int'),\n",
       " ('checkin_service', 'int'),\n",
       " ('cleanliness', 'int'),\n",
       " ('online_boarding', 'int'),\n",
       " ('departure_delay_in_minutes', 'int'),\n",
       " ('arrival_delay_in_minutes', 'int'),\n",
       " ('total', 'int')]"
      ]
     },
     "execution_count": 15,
     "metadata": {},
     "output_type": "execute_result"
    }
   ],
   "source": [
    "data.dtypes # типы данных столбцов"
   ]
  },
  {
   "cell_type": "markdown",
   "metadata": {},
   "source": [
    "## Обзор совокупного показателя"
   ]
  },
  {
   "cell_type": "code",
   "execution_count": 16,
   "metadata": {},
   "outputs": [
    {
     "data": {
      "text/plain": [
       "70"
      ]
     },
     "execution_count": 16,
     "metadata": {},
     "output_type": "execute_result"
    }
   ],
   "source": [
    "data.agg({\"total\": \"max\"}).collect()[0][0] # максимальное значение основной метрики"
   ]
  },
  {
   "cell_type": "code",
   "execution_count": 17,
   "metadata": {},
   "outputs": [
    {
     "name": "stdout",
     "output_type": "stream",
     "text": [
      "+------------+------+--------------+---+---------------+--------+---------------+------------+---------------------------------+--------------+-------------+---------------------+----------------------+--------------+----------------------+----------------+----------------+----------------+---------------+-----------+---------------+--------------------------+------------------------+-----+\n",
      "|satisfaction|gender| customer_type|age| type_of_travel|   class|flight_distance|seat_comfort|departure_arrival_time_convenient|food_and_drink|gate_location|inflight_wifi_service|inflight_entertainment|online_support|ease_of_online_booking|on_board_service|leg_room_service|baggage_handling|checkin_service|cleanliness|online_boarding|departure_delay_in_minutes|arrival_delay_in_minutes|total|\n",
      "+------------+------+--------------+---+---------------+--------+---------------+------------+---------------------------------+--------------+-------------+---------------------+----------------------+--------------+----------------------+----------------+----------------+----------------+---------------+-----------+---------------+--------------------------+------------------------+-----+\n",
      "|   satisfied|Female|Loyal Customer| 65|Personal Travel|     Eco|            398|           5|                                5|             5|            5|                    5|                     5|             5|                     5|               5|               5|               5|              5|          5|              5|                         0|                       3|   70|\n",
      "|   satisfied|  Male|Loyal Customer| 47|Business travel|Business|           2601|           5|                                5|             5|            5|                    5|                     5|             5|                     5|               5|               5|               5|              5|          5|              5|                         1|                       0|   70|\n",
      "|   satisfied|  Male|Loyal Customer| 53|Business travel|Business|           3594|           5|                                5|             5|            5|                    5|                     5|             5|                     5|               5|               5|               5|              5|          5|              5|                        29|                      23|   70|\n",
      "|   satisfied|  Male|Loyal Customer| 45|Business travel|Business|            301|           5|                                5|             5|            5|                    5|                     5|             5|                     5|               5|               5|               5|              5|          5|              5|                        28|                      81|   70|\n",
      "|   satisfied|  Male|Loyal Customer| 39|Business travel|Business|           2332|           5|                                5|             5|            5|                    5|                     5|             5|                     5|               5|               5|               5|              5|          5|              5|                       124|                     120|   70|\n",
      "+------------+------+--------------+---+---------------+--------+---------------+------------+---------------------------------+--------------+-------------+---------------------+----------------------+--------------+----------------------+----------------+----------------+----------------+---------------+-----------+---------------+--------------------------+------------------------+-----+\n",
      "only showing top 5 rows\n",
      "\n"
     ]
    }
   ],
   "source": [
    "data.filter(col('total') == lit(70)).show(5) # записи с максимальным значением основной метрики"
   ]
  },
  {
   "cell_type": "markdown",
   "metadata": {},
   "source": [
    "Все клиенты, поставившие максимальный бал, были удовлетворены"
   ]
  },
  {
   "cell_type": "code",
   "execution_count": 18,
   "metadata": {},
   "outputs": [
    {
     "data": {
      "text/plain": [
       "15"
      ]
     },
     "execution_count": 18,
     "metadata": {},
     "output_type": "execute_result"
    }
   ],
   "source": [
    "data.select(\n",
    "    F.min(F.col(\"total\")).alias(\"MIN\")).limit(1).collect()[0].MIN # минимальное значение основной метрики"
   ]
  },
  {
   "cell_type": "code",
   "execution_count": 19,
   "metadata": {},
   "outputs": [
    {
     "name": "stdout",
     "output_type": "stream",
     "text": [
      "+------------+------+-----------------+---+---------------+--------+---------------+------------+---------------------------------+--------------+-------------+---------------------+----------------------+--------------+----------------------+----------------+----------------+----------------+---------------+-----------+---------------+--------------------------+------------------------+-----+\n",
      "|satisfaction|gender|    customer_type|age| type_of_travel|   class|flight_distance|seat_comfort|departure_arrival_time_convenient|food_and_drink|gate_location|inflight_wifi_service|inflight_entertainment|online_support|ease_of_online_booking|on_board_service|leg_room_service|baggage_handling|checkin_service|cleanliness|online_boarding|departure_delay_in_minutes|arrival_delay_in_minutes|total|\n",
      "+------------+------+-----------------+---+---------------+--------+---------------+------------+---------------------------------+--------------+-------------+---------------------+----------------------+--------------+----------------------+----------------+----------------+----------------+---------------+-----------+---------------+--------------------------+------------------------+-----+\n",
      "|   satisfied|Female|   Loyal Customer| 52|Personal Travel|Business|           2610|           0|                                1|             0|            2|                    1|                     2|             2|                     1|               1|               0|               1|              2|          1|              3|                         0|                       0|   17|\n",
      "|   satisfied|Female|   Loyal Customer| 55|Personal Travel|     Eco|           2554|           0|                                1|             0|            2|                    0|                     1|             1|                     2|               1|               1|               2|              1|          3|              1|                         0|                       0|   16|\n",
      "|   satisfied|  Male|   Loyal Customer| 32|Personal Travel|     Eco|           2343|           0|                                1|             0|            3|                    1|                     0|             1|                     1|               2|               2|               1|              1|          3|              1|                         0|                       0|   17|\n",
      "|   satisfied|  Male|   Loyal Customer|  7|Personal Travel|     Eco|           1817|           0|                                3|             0|            1|                    1|                     0|             1|                     1|               1|               2|               2|              1|          3|              1|                         1|                       5|   17|\n",
      "|   satisfied|Female|   Loyal Customer| 35|Personal Travel|     Eco|           2393|           0|                                1|             0|            2|                    1|                     2|             2|                     1|               1|               0|               1|              2|          1|              3|                         0|                       9|   17|\n",
      "|   satisfied|Female|   Loyal Customer| 24|Personal Travel|     Eco|           1808|           0|                                1|             0|            2|                    0|                     1|             1|                     2|               1|               1|               2|              1|          3|              1|                        23|                      90|   16|\n",
      "|   satisfied|Female|   Loyal Customer| 18|Personal Travel|     Eco|           3529|           0|                                0|             0|            1|                    1|                     3|             2|                     1|               1|               1|               1|              4|          1|              1|                         0|                       0|   17|\n",
      "|   satisfied|Female|   Loyal Customer| 51|Personal Travel|     Eco|           1351|           0|                                0|             0|            4|                    1|                     1|             1|                     1|               1|               1|               2|              1|          1|              1|                         0|                       0|   15|\n",
      "|dissatisfied|  Male|disloyal Customer| 41|Business travel|     Eco|           1546|           1|                                0|             1|            1|                    1|                     1|             1|                     1|               1|               3|               1|              2|          2|              1|                         0|                       0|   17|\n",
      "|dissatisfied|  Male|disloyal Customer| 24|Business travel|     Eco|           1791|           1|                                1|             1|            1|                    1|                     1|             1|                     1|               1|               3|               1|              2|          1|              1|                         0|                       0|   17|\n",
      "|   satisfied|Female|   Loyal Customer| 62|Business travel|Business|           3663|           0|                                0|             0|            1|                    1|                     3|             2|                     1|               1|               1|               1|              4|          1|              1|                         0|                       0|   17|\n",
      "|   satisfied|  Male|   Loyal Customer| 33|Business travel|     Eco|           1815|           0|                                0|             0|            2|                    1|                     3|             1|                     1|               1|               2|               2|              2|          1|              1|                         0|                       0|   17|\n",
      "|   satisfied|  Male|   Loyal Customer| 32|Business travel|     Eco|           2077|           0|                                0|             0|            3|                    1|                     0|             1|                     1|               3|               1|               1|              1|          2|              1|                         0|                       0|   15|\n",
      "|   satisfied|Female|   Loyal Customer| 22|Business travel|Business|           2135|           0|                                0|             0|            4|                    1|                     1|             1|                     1|               1|               1|               2|              1|          1|              1|                        50|                      48|   15|\n",
      "|dissatisfied|Female|   Loyal Customer| 48|Business travel|Business|           2120|           1|                                0|             0|            1|                    3|                     1|             1|                     1|               1|               0|               1|              4|          1|              2|                        97|                      84|   17|\n",
      "|dissatisfied|Female|   Loyal Customer| 71|Business travel|     Eco|            241|           1|                                0|             0|            2|                    3|                     2|             1|                     1|               1|               1|               1|              2|          1|              1|                         0|                       0|   17|\n",
      "|dissatisfied|  Male|   Loyal Customer| 42|Business travel|Business|           3332|           1|                                1|             1|            1|                    2|                     1|             1|                     1|               1|               1|               1|              1|          1|              3|                         0|                       7|   17|\n",
      "|dissatisfied|Female|   Loyal Customer| 57|Business travel|Business|           1942|           1|                                1|             1|            1|                    2|                     1|             1|                     1|               1|               1|               1|              2|          1|              1|                        31|                      26|   16|\n",
      "|dissatisfied|  Male|   Loyal Customer| 33|Business travel|     Eco|           2151|           1|                                1|             1|            1|                    1|                     1|             1|                     2|               1|               1|               1|              1|          3|              1|                       131|                     143|   17|\n",
      "|dissatisfied|Female|   Loyal Customer| 28|Business travel|Eco Plus|           1491|           1|                                1|             1|            1|                    1|                     1|             1|                     1|               1|               2|               2|              1|          1|              1|                        22|                      27|   16|\n",
      "|dissatisfied|  Male|   Loyal Customer| 44|Business travel|Business|           1776|           1|                                1|             1|            1|                    1|                     1|             2|                     1|               1|               1|               1|              2|          1|              2|                         0|                       0|   17|\n",
      "|dissatisfied|Female|   Loyal Customer| 45|Business travel|Business|            450|           1|                                1|             1|            1|                    1|                     2|             2|                     1|               1|               1|               1|              2|          1|              1|                        28|                      22|   17|\n",
      "|dissatisfied|  Male|   Loyal Customer| 32|Business travel|Business|           1843|           1|                                1|             1|            1|                    1|                     1|             1|                     1|               1|               1|               2|              2|          2|              1|                         1|                       4|   17|\n",
      "|dissatisfied|Female|   Loyal Customer| 53|Business travel|Business|           3510|           1|                                1|             1|            1|                    2|                     1|             1|                     1|               1|               1|               1|              2|          1|              1|                         3|                       7|   16|\n",
      "|dissatisfied|  Male|   Loyal Customer| 77|Business travel|Business|           2064|           1|                                1|             1|            1|                    2|                     1|             1|                     1|               1|               1|               1|              1|          1|              3|                         0|                       0|   17|\n",
      "|dissatisfied|  Male|   Loyal Customer| 41|Business travel|     Eco|           2196|           1|                                1|             1|            1|                    1|                     1|             1|                     1|               1|               3|               1|              1|          2|              1|                         0|                       0|   17|\n",
      "+------------+------+-----------------+---+---------------+--------+---------------+------------+---------------------------------+--------------+-------------+---------------------+----------------------+--------------+----------------------+----------------+----------------+----------------+---------------+-----------+---------------+--------------------------+------------------------+-----+\n",
      "\n"
     ]
    }
   ],
   "source": [
    "data.filter(col('total') < lit(18)).show(50) # записи с низким значением основной метрики"
   ]
  },
  {
   "cell_type": "markdown",
   "metadata": {},
   "source": [
    "Не все клиенты, поставившие низкий бал, были неудовлетворены"
   ]
  },
  {
   "cell_type": "markdown",
   "metadata": {},
   "source": [
    "## Средние показатели"
   ]
  },
  {
   "cell_type": "code",
   "execution_count": 20,
   "metadata": {},
   "outputs": [
    {
     "name": "stdout",
     "output_type": "stream",
     "text": [
      "+------------+------+-----------------+---------------+--------+-----+------------+---------------------------------+--------------+-------------+---------------------+----------------------+--------------+----------------------+----------------+----------------+----------------+---------------+-----------+---------------+\n",
      "|satisfaction|gender|    customer_type| type_of_travel|   class|total|seat_comfort|departure_arrival_time_convenient|food_and_drink|gate_location|inflight_wifi_service|inflight_entertainment|online_support|ease_of_online_booking|on_board_service|leg_room_service|baggage_handling|checkin_service|cleanliness|online_boarding|\n",
      "+------------+------+-----------------+---------------+--------+-----+------------+---------------------------------+--------------+-------------+---------------------+----------------------+--------------+----------------------+----------------+----------------+----------------+---------------+-----------+---------------+\n",
      "|   satisfied|  Male|disloyal Customer|Personal Travel|     Eco|45.18|        3.35|                             3.53|          3.18|         3.29|                 3.12|                  3.24|          3.24|                  3.12|            2.65|            3.35|            3.47|            3.0|       3.53|           3.12|\n",
      "|   satisfied|  Male|disloyal Customer|Business travel|Eco Plus|43.86|         4.0|                             2.36|          4.14|         2.64|                 2.93|                   4.0|          2.79|                  2.71|            2.57|             3.5|            3.29|           3.36|       2.79|           2.79|\n",
      "|   satisfied|  Male|disloyal Customer|Business travel|     Eco|46.48|        3.78|                             2.67|          3.74|         2.82|                 3.13|                  3.67|           3.0|                  3.11|            3.45|            3.19|            3.69|           3.44|       3.73|           3.09|\n",
      "|   satisfied|  Male|disloyal Customer|Business travel|Business| 49.1|        3.73|                             2.73|          3.69|         2.85|                 3.13|                  3.64|          3.03|                  3.15|             3.9|            3.48|            4.36|           3.93|       4.36|           3.11|\n",
      "|   satisfied|Female|disloyal Customer|Personal Travel|     Eco| 49.4|         4.4|                             3.67|          4.27|          2.8|                 2.93|                  4.27|          3.13|                  2.93|            3.27|            3.53|            3.73|           3.73|        3.8|           2.93|\n",
      "|   satisfied|Female|disloyal Customer|Business travel|Eco Plus|42.14|        3.22|                             2.41|          3.24|         2.68|                 3.07|                  3.07|           3.0|                  3.05|             3.0|            2.73|            3.07|           3.31|       3.24|           3.07|\n",
      "|   satisfied|Female|disloyal Customer|Business travel|     Eco|46.04|        3.63|                             2.66|          3.61|         2.78|                 3.17|                  3.54|          3.11|                  3.15|            3.38|            3.17|            3.66|           3.43|        3.6|           3.14|\n",
      "|   satisfied|Female|disloyal Customer|Business travel|Business| 48.9|        3.75|                             2.79|           3.7|         2.83|                 3.07|                  3.65|          2.99|                  3.07|            3.89|            3.53|            4.35|           3.88|       4.36|           3.04|\n",
      "|   satisfied|  Male|   Loyal Customer|Personal Travel|Eco Plus|46.47|        3.63|                              3.7|          3.49|         2.76|                 2.98|                  3.45|          2.94|                  2.95|            3.33|            3.32|            3.79|           3.28|       3.89|           2.96|\n",
      "|   satisfied|  Male|   Loyal Customer|Personal Travel|     Eco| 47.1|        3.66|                              3.7|          3.47|         2.95|                 3.09|                  3.45|          3.02|                  3.08|            3.37|            3.24|            3.79|           3.37|       3.83|           3.08|\n",
      "|   satisfied|  Male|   Loyal Customer|Personal Travel|Business| 45.8|        3.49|                             3.65|          3.39|         2.88|                 3.17|                  3.75|          3.54|                  2.84|            2.97|            3.32|            3.16|           3.29|       3.16|           3.19|\n",
      "|   satisfied|  Male|   Loyal Customer|Business travel|Eco Plus|48.29|        3.93|                             2.97|          2.85|         3.04|                 4.16|                  3.98|          4.13|                  4.14|            2.91|            2.93|             3.0|           3.05|       3.02|           4.17|\n",
      "|   satisfied|  Male|   Loyal Customer|Business travel|     Eco|48.81|        4.08|                             2.93|          2.96|         2.99|                 4.18|                  4.12|          4.15|                  4.14|            2.98|            2.95|            3.02|            3.1|       3.02|           4.18|\n",
      "|   satisfied|  Male|   Loyal Customer|Business travel|Business|51.77|        2.86|                             2.93|          2.91|          3.0|                 3.57|                  4.19|           4.2|                  4.15|            4.04|            4.03|            4.11|           3.78|       4.11|           3.89|\n",
      "|   satisfied|Female|   Loyal Customer|Personal Travel|Eco Plus|50.57|        3.18|                             3.02|          3.05|         2.97|                 3.46|                  4.02|          3.98|                  3.97|            3.88|            3.87|            3.92|           3.63|       3.94|           3.68|\n",
      "|   satisfied|Female|   Loyal Customer|Personal Travel|     Eco|50.37|        3.15|                             3.08|           3.0|         2.98|                 3.46|                  3.96|          3.96|                  3.94|            3.84|            3.86|            3.91|            3.6|       3.94|            3.7|\n",
      "|   satisfied|Female|   Loyal Customer|Personal Travel|Business|49.87|        3.13|                             3.02|          2.96|         2.92|                 3.44|                  3.94|          3.95|                  3.88|            3.77|            3.81|            3.87|           3.59|       3.88|            3.7|\n",
      "|   satisfied|Female|   Loyal Customer|Business travel|Eco Plus|48.04|        3.92|                             2.87|           2.8|          3.0|                 3.64|                  3.48|          3.59|                  4.11|            3.49|            3.48|            3.49|           3.05|       3.49|           3.64|\n",
      "|   satisfied|Female|   Loyal Customer|Business travel|     Eco|48.81|        4.09|                             2.96|          2.95|         3.01|                  3.5|                  3.51|          3.51|                  4.12|            3.65|            3.67|            3.65|           3.04|       3.65|           3.51|\n",
      "|   satisfied|Female|   Loyal Customer|Business travel|Business| 51.8|        2.86|                             2.93|          2.91|         2.99|                 3.56|                  4.17|          4.21|                  4.15|            4.05|            4.06|            4.12|           3.78|       4.12|           3.89|\n",
      "|dissatisfied|  Male|disloyal Customer|Personal Travel|Eco Plus|41.75|         2.5|                              3.5|           2.5|          3.0|                  2.5|                   2.5|           2.5|                   2.5|             4.0|             3.0|            3.25|           2.75|       4.75|            2.5|\n",
      "|dissatisfied|  Male|disloyal Customer|Personal Travel|     Eco|43.84|        2.45|                             3.68|          2.37|         2.84|                 3.05|                  2.35|           3.0|                  3.07|             3.4|            3.25|            3.92|           3.41|       3.99|           3.05|\n",
      "|dissatisfied|  Male|disloyal Customer|Personal Travel|Business| 41.5|         3.0|                             4.17|          3.17|          3.0|                 2.33|                   3.0|          2.33|                   2.5|            2.83|            2.67|            3.83|           2.83|       3.67|           2.17|\n",
      "|dissatisfied|  Male|disloyal Customer|Business travel|Eco Plus|39.68|        2.41|                              2.3|          2.41|         3.15|                 3.07|                  2.48|          3.02|                  3.09|            2.55|            3.31|            3.04|           2.79|       2.93|           3.14|\n",
      "|dissatisfied|  Male|disloyal Customer|Business travel|     Eco|40.12|        2.41|                             2.25|          2.41|         3.05|                 3.02|                  2.44|           3.0|                  3.04|            2.88|            3.09|            3.31|           2.86|       3.32|           3.05|\n",
      "|dissatisfied|  Male|disloyal Customer|Business travel|Business|43.48|        2.38|                             2.37|          2.39|         2.93|                 3.03|                  2.41|          3.01|                  3.06|            3.61|            3.42|            4.12|           3.61|        4.1|           3.06|\n",
      "|dissatisfied|Female|disloyal Customer|Personal Travel|     Eco|42.81|        2.19|                             3.65|           2.1|         2.95|                 3.23|                  2.13|          3.04|                  3.25|            3.48|            3.08|            3.64|            3.1|       3.68|           3.29|\n",
      "|dissatisfied|Female|disloyal Customer|Personal Travel|Business|40.14|        2.71|                             4.14|          2.29|         2.57|                 2.29|                  2.29|          2.14|                  2.29|            2.71|            3.71|             4.0|           3.29|       3.43|           2.29|\n",
      "|dissatisfied|Female|disloyal Customer|Business travel|Eco Plus|39.69|        2.37|                             2.27|          2.35|         3.17|                 3.04|                   2.4|          3.04|                  3.03|            2.78|            3.06|            3.19|           2.71|        3.2|           3.08|\n",
      "|dissatisfied|Female|disloyal Customer|Business travel|     Eco|39.96|        2.38|                             2.19|          2.39|          3.1|                 3.03|                  2.42|          3.01|                  3.04|            2.83|            3.05|            3.32|           2.79|       3.33|           3.06|\n",
      "|dissatisfied|Female|disloyal Customer|Business travel|Business| 43.5|        2.41|                             2.38|           2.4|         2.97|                 2.99|                  2.44|          2.96|                  3.04|            3.61|            3.35|            4.15|           3.59|       4.17|           3.02|\n",
      "|dissatisfied|  Male|   Loyal Customer|Personal Travel|Eco Plus| 43.2|        2.39|                             3.64|          2.37|          2.9|                 3.03|                  2.39|           3.0|                  3.07|            3.34|            3.26|            3.69|            3.3|       3.78|           3.05|\n",
      "|dissatisfied|  Male|   Loyal Customer|Personal Travel|     Eco|43.33|         2.4|                             3.65|          2.37|         2.93|                 3.02|                  2.39|          2.99|                  3.05|            3.34|            3.26|            3.75|           3.34|       3.78|           3.05|\n",
      "|dissatisfied|  Male|   Loyal Customer|Personal Travel|Business|43.24|        2.41|                             3.65|          2.41|          2.9|                  3.1|                  3.15|          3.44|                  2.98|            3.16|            2.79|            3.33|           3.35|       3.33|           3.21|\n",
      "|dissatisfied|  Male|   Loyal Customer|Business travel|Eco Plus|37.83|        2.39|                             2.94|          3.03|         2.99|                 2.42|                  2.38|          2.41|                  2.42|            2.49|            2.96|            3.31|           2.39|       3.28|           2.42|\n",
      "|dissatisfied|  Male|   Loyal Customer|Business travel|     Eco|38.02|        2.41|                             2.97|          3.01|         3.04|                 2.45|                   2.4|          2.45|                  2.46|            2.53|            3.02|            3.16|           2.49|       3.17|           2.46|\n",
      "|dissatisfied|  Male|   Loyal Customer|Business travel|Business|37.91|        2.41|                             2.97|          3.03|         3.03|                 2.79|                  2.87|           2.9|                  2.44|            2.48|            2.61|            2.71|           2.49|        2.7|           2.48|\n",
      "|dissatisfied|Female|   Loyal Customer|Personal Travel|Eco Plus|47.94|        3.61|                             3.91|           3.5|         3.16|                 3.04|                  3.59|          3.44|                   3.1|            3.21|            3.65|            3.51|           3.42|       3.51|           3.29|\n",
      "|dissatisfied|Female|   Loyal Customer|Personal Travel|     Eco|47.39|        3.59|                             3.87|          3.52|         3.11|                 3.04|                  3.65|          3.34|                  3.09|            3.22|             3.5|            3.49|           3.35|       3.47|           3.16|\n",
      "|dissatisfied|Female|   Loyal Customer|Personal Travel|Business| 47.4|        3.58|                             3.86|           3.6|         3.21|                 3.12|                  3.65|          3.44|                  3.05|            3.06|            3.49|            3.37|           3.34|       3.34|           3.29|\n",
      "|dissatisfied|Female|   Loyal Customer|Business travel|Eco Plus|37.98|         2.4|                             2.96|          3.03|         2.99|                 2.67|                  2.73|          2.77|                  2.42|            2.51|            2.74|             2.9|           2.46|       2.92|           2.46|\n",
      "|dissatisfied|Female|   Loyal Customer|Business travel|     Eco|38.16|        2.43|                             2.99|          3.04|         3.06|                 2.77|                  2.85|          2.88|                  2.48|             2.5|            2.65|            2.77|           2.49|       2.76|           2.49|\n",
      "|dissatisfied|Female|   Loyal Customer|Business travel|Business|37.93|         2.4|                             2.97|          3.03|         3.03|                 2.79|                  2.88|          2.92|                  2.46|             2.5|             2.6|             2.7|           2.49|       2.71|           2.48|\n",
      "+------------+------+-----------------+---------------+--------+-----+------------+---------------------------------+--------------+-------------+---------------------+----------------------+--------------+----------------------+----------------+----------------+----------------+---------------+-----------+---------------+\n",
      "\n"
     ]
    }
   ],
   "source": [
    "all = data.groupBy(\"satisfaction\", \"gender\", \"customer_type\", \"type_of_travel\", \"class\") \\\n",
    "    .agg(F.round(F.avg(\"total\"), 2).alias(\"total\"),\n",
    "         F.round(F.avg(\"seat_comfort\"), 2).alias(\"seat_comfort\"), \n",
    "         F.round(F.avg(\"departure_arrival_time_convenient\"), 2).alias(\"departure_arrival_time_convenient\"), \n",
    "         F.round(F.avg(\"food_and_drink\"), 2).alias(\"food_and_drink\"),\n",
    "         F.round(F.avg(\"gate_location\"), 2).alias(\"gate_location\"), \n",
    "         F.round(F.avg(\"inflight_wifi_service\"), 2).alias(\"inflight_wifi_service\"), \n",
    "         F.round(F.avg(\"inflight_entertainment\"), 2).alias(\"inflight_entertainment\"), \n",
    "         F.round(F.avg(\"online_support\"), 2).alias(\"online_support\"), \n",
    "         F.round(F.avg(\"ease_of_online_booking\"), 2).alias(\"ease_of_online_booking\"), \n",
    "         F.round(F.avg(\"on_board_service\"), 2).alias(\"on_board_service\"), \n",
    "         F.round(F.avg(\"leg_room_service\"), 2).alias(\"leg_room_service\"), \n",
    "         F.round(F.avg(\"baggage_handling\"), 2).alias(\"baggage_handling\"), \n",
    "         F.round(F.avg(\"checkin_service\"), 2).alias(\"checkin_service\"), \n",
    "         F.round(F.avg(\"cleanliness\"), 2).alias(\"cleanliness\"), \n",
    "         F.round(F.avg(\"online_boarding\"), 2).alias(\"online_boarding\")\n",
    "      ).orderBy(\n",
    "          [\"satisfaction\", \"customer_type\", \"gender\", \"type_of_travel\", \"class\"], \n",
    "          ascending=False).show(43, truncate=True)"
   ]
  },
  {
   "cell_type": "markdown",
   "metadata": {},
   "source": [
    "Самый низкий совокупный показатель в среднем у удовлетворённых клиентов среди женщин и мужчин, относящихся к нелояльным, имеющих целью бизнес-путешествие и с классом Эконом Плюс, а самый высокий - среди лояльных с аналогичной целью и классом Бизнес.\n",
    "\n",
    "Самый высокий совокупный показатель в среднем у неудовлетворённых клиентов среди женщин, относящихся к лояльным, имеющих целью индивидуальное путешествие, а самый низкий - среди лояльных мужчин с целью бизнес-путешествия.\n",
    "\n",
    "По отдельным критериям нет среднего значения показателя ниже 2 (самый низкий зафиксирован по оценке еды (2.1) и напитков среди неудовлетворённых нелояльных женщин в индивидуальном путешествии класса Эконом), а самый высокий показатель фиксируется по комфорту сидения (4.4 у удовлетворённых нелояльных женщин при индивидуальном путешествии эконом класса)."
   ]
  },
  {
   "cell_type": "markdown",
   "metadata": {},
   "source": [
    "## Матрица корреляций"
   ]
  },
  {
   "cell_type": "code",
   "execution_count": 21,
   "metadata": {},
   "outputs": [
    {
     "data": {
      "text/plain": [
       "array([ 1.00000000e+00, -4.24087595e-02,  1.35028774e-03, -4.64920013e-03,\n",
       "       -2.40888816e-03,  1.22302223e-02, -2.75423117e-02, -3.20224837e-02,\n",
       "       -2.22992839e-02, -3.25590394e-02, -3.03157699e-02,  1.97683971e-02,\n",
       "        2.45565044e-03,  9.43181254e-03,  9.60352495e-03,  1.12555440e-01,\n",
       "        1.09733489e-01, -2.01768143e-02, -4.24087595e-02,  1.00000000e+00,\n",
       "        4.34951201e-01,  7.15997131e-01,  4.05299613e-01,  1.29130660e-01,\n",
       "        4.26447115e-01,  1.20278266e-01,  2.11530683e-01,  1.21148837e-01,\n",
       "        1.36135696e-01,  1.18488629e-01,  4.12136522e-02,  1.08475074e-01,\n",
       "        1.30396484e-01, -2.38171016e-02, -2.54626380e-02,  5.95781118e-01,\n",
       "        1.35028774e-03,  4.34951201e-01,  1.00000000e+00,  5.27381194e-01,\n",
       "        5.44258524e-01, -1.97370209e-03,  7.72029136e-02, -5.46247124e-04,\n",
       "        1.75548932e-03,  6.04463693e-02,  2.94218568e-02,  6.73961551e-02,\n",
       "        6.27937697e-02,  6.71257030e-02, -6.23459767e-04,  4.39513128e-03,\n",
       "        2.49975211e-03,  4.30731949e-01, -4.64920013e-03,  7.15997131e-01,\n",
       "        5.27381194e-01,  1.00000000e+00,  5.23327870e-01,  2.59168699e-02,\n",
       "        3.67669101e-01,  2.85538946e-02,  4.11888960e-02,  3.86460609e-02,\n",
       "        7.41605296e-02,  3.63700033e-02,  1.18979052e-02,  3.34159032e-02,\n",
       "        1.35871843e-02, -1.34325590e-02, -1.48452405e-02,  5.10543574e-01,\n",
       "       -2.40888816e-03,  4.05299613e-01,  5.44258524e-01,  5.23327870e-01,\n",
       "        1.00000000e+00, -4.08628356e-03, -2.80114218e-04,  2.90833737e-03,\n",
       "        1.44187714e-03, -2.51323520e-02, -7.40716024e-03, -4.00605049e-04,\n",
       "       -3.18591106e-02, -1.70471320e-03, -3.04324140e-03,  3.96154203e-03,\n",
       "        3.61988488e-03,  3.57737350e-01,  1.22302223e-02,  1.29130660e-01,\n",
       "       -1.97370209e-03,  2.59168699e-02, -4.08628356e-03,  1.00000000e+00,\n",
       "        2.53822509e-01,  5.57340112e-01,  6.01100481e-01,  6.07943848e-02,\n",
       "        3.35891352e-02,  3.82508073e-02,  9.25084313e-02,  3.82634571e-02,\n",
       "        6.31785790e-01, -3.29004827e-02, -3.51978283e-02,  4.80831833e-01,\n",
       "       -2.75423117e-02,  4.26447115e-01,  7.72029136e-02,  3.67669101e-01,\n",
       "       -2.80114218e-04,  2.53822509e-01,  1.00000000e+00,  4.41957294e-01,\n",
       "        3.21731415e-01,  1.83912277e-01,  1.60730544e-01,  1.17212781e-01,\n",
       "        2.24119851e-01,  1.09451260e-01,  3.55714304e-01, -3.04914293e-02,\n",
       "       -3.31821113e-02,  5.69994204e-01, -3.20224837e-02,  1.20278266e-01,\n",
       "       -5.46247124e-04,  2.85538946e-02,  2.90833737e-03,  5.57340112e-01,\n",
       "        4.41957294e-01,  1.00000000e+00,  6.17488918e-01,  1.57929582e-01,\n",
       "        1.38433420e-01,  1.02443938e-01,  2.06823844e-01,  9.57261426e-02,\n",
       "        6.69842854e-01, -3.40176850e-02, -3.59399953e-02,  5.72662302e-01,\n",
       "       -2.22992839e-02,  2.11530683e-01,  1.75548932e-03,  4.11888960e-02,\n",
       "        1.44187714e-03,  6.01100481e-01,  3.21731415e-01,  6.17488918e-01,\n",
       "        1.00000000e+00,  4.36263506e-01,  3.55122029e-01,  3.98321669e-01,\n",
       "        1.37743597e-01,  4.17674570e-01,  6.84320203e-01, -3.65452572e-02,\n",
       "       -3.97171291e-02,  7.12916436e-01, -3.25590394e-02,  1.21148837e-01,\n",
       "        6.04463693e-02,  3.86460609e-02, -2.51323520e-02,  6.07943848e-02,\n",
       "        1.83912277e-01,  1.57929582e-01,  4.36263506e-01,  1.00000000e+00,\n",
       "        4.11746007e-01,  5.30447797e-01,  2.50839129e-01,  5.51294500e-01,\n",
       "        1.39505764e-01, -3.76409479e-02, -4.13604029e-02,  5.24145975e-01,\n",
       "       -3.03157699e-02,  1.36135696e-01,  2.94218568e-02,  7.41605296e-02,\n",
       "       -7.40716024e-03,  3.35891352e-02,  1.60730544e-01,  1.38433420e-01,\n",
       "        3.55122029e-01,  4.11746007e-01,  1.00000000e+00,  4.11640303e-01,\n",
       "        1.67941891e-01,  4.11504928e-01,  1.12900426e-01,  3.65959325e-03,\n",
       "        5.36910288e-04,  4.63045092e-01,  1.97683971e-02,  1.18488629e-01,\n",
       "        6.73961551e-02,  3.63700033e-02, -4.00605049e-04,  3.82508073e-02,\n",
       "        1.17212781e-01,  1.02443938e-01,  3.98321669e-01,  5.30447797e-01,\n",
       "        4.11640303e-01,  1.00000000e+00,  2.40857616e-01,  6.31803291e-01,\n",
       "        1.11920215e-01, -9.98511036e-03, -1.42118589e-02,  5.01303434e-01,\n",
       "        2.45565044e-03,  4.12136522e-02,  6.27937697e-02,  1.18979052e-02,\n",
       "       -3.18591106e-02,  9.25084313e-02,  2.24119851e-01,  2.06823844e-01,\n",
       "        1.37743597e-01,  2.50839129e-01,  1.67941891e-01,  2.40857616e-01,\n",
       "        1.00000000e+00,  2.41733974e-01,  1.84344416e-01, -2.08957417e-02,\n",
       "       -2.38417938e-02,  3.81756255e-01,  9.43181254e-03,  1.08475074e-01,\n",
       "        6.71257030e-02,  3.34159032e-02, -1.70471320e-03,  3.82634571e-02,\n",
       "        1.09451260e-01,  9.57261426e-02,  4.17674570e-01,  5.51294500e-01,\n",
       "        4.11504928e-01,  6.31803291e-01,  2.41733974e-01,  1.00000000e+00,\n",
       "        1.06237678e-01, -6.21343461e-02, -6.70419817e-02,  5.01732127e-01,\n",
       "        9.60352495e-03,  1.30396484e-01, -6.23459767e-04,  1.35871843e-02,\n",
       "       -3.04324140e-03,  6.31785790e-01,  3.55714304e-01,  6.69842854e-01,\n",
       "        6.84320203e-01,  1.39505764e-01,  1.12900426e-01,  1.11920215e-01,\n",
       "        1.84344416e-01,  1.06237678e-01,  1.00000000e+00, -2.00450426e-02,\n",
       "       -2.17572616e-02,  5.71567304e-01,  1.12555440e-01, -2.38171016e-02,\n",
       "        4.39513128e-03, -1.34325590e-02,  3.96154203e-03, -3.29004827e-02,\n",
       "       -3.04914293e-02, -3.40176850e-02, -3.65452572e-02, -3.76409479e-02,\n",
       "        3.65959325e-03, -9.98511036e-03, -2.08957417e-02, -6.21343461e-02,\n",
       "       -2.00450426e-02,  1.00000000e+00,  9.59382353e-01, -4.20330138e-02,\n",
       "        1.09733489e-01, -2.54626380e-02,  2.49975211e-03, -1.48452405e-02,\n",
       "        3.61988488e-03, -3.51978283e-02, -3.31821113e-02, -3.59399953e-02,\n",
       "       -3.97171291e-02, -4.13604029e-02,  5.36910288e-04, -1.42118589e-02,\n",
       "       -2.38417938e-02, -6.70419817e-02, -2.17572616e-02,  9.59382353e-01,\n",
       "        1.00000000e+00, -4.69403228e-02, -2.01768143e-02,  5.95781118e-01,\n",
       "        4.30731949e-01,  5.10543574e-01,  3.57737350e-01,  4.80831833e-01,\n",
       "        5.69994204e-01,  5.72662302e-01,  7.12916436e-01,  5.24145975e-01,\n",
       "        4.63045092e-01,  5.01303434e-01,  3.81756255e-01,  5.01732127e-01,\n",
       "        5.71567304e-01, -4.20330138e-02, -4.69403228e-02,  1.00000000e+00])"
      ]
     },
     "execution_count": 21,
     "metadata": {},
     "output_type": "execute_result"
    }
   ],
   "source": [
    "data_new = data[['flight_distance', 'seat_comfort', 'departure_arrival_time_convenient', \\\n",
    "               'food_and_drink', 'gate_location', 'inflight_wifi_service', \\\n",
    "               'inflight_entertainment', 'online_support', 'ease_of_online_booking', \\\n",
    "               'on_board_service', 'leg_room_service', 'baggage_handling', \\\n",
    "               'checkin_service', 'cleanliness', 'online_boarding', \\\n",
    "               'departure_delay_in_minutes', 'arrival_delay_in_minutes', 'total']]\n",
    "\n",
    "vector_col = 'satisfaction'\n",
    "assembler = VectorAssembler(inputCols=data_new.columns, outputCol=vector_col)\n",
    "df_vector = assembler.transform(data_new).select(vector_col)\n",
    "\n",
    "corr_matrix = Correlation.corr(df_vector, vector_col)\n",
    "\n",
    "co = corr_matrix.collect()[0]['pearson({})'.format(vector_col)].values\n",
    "co"
   ]
  },
  {
   "cell_type": "code",
   "execution_count": 22,
   "metadata": {},
   "outputs": [
    {
     "name": "stdout",
     "output_type": "stream",
     "text": [
      "[[1.0, -0.04240875945372055, 0.0013502877430506782, -0.004649200130602286, -0.0024088881570628333, 0.012230222348860852, -0.027542311731235426, -0.03202248370455009, -0.02229928385112214, -0.032559039424103604, -0.030315769893668423, 0.01976839711421719, 0.0024556504445183125, 0.009431812539732215, 0.009603524945972946, 0.11255544011216746, 0.10973348892058468, -0.020176814289956994], [-0.04240875945372055, 1.0, 0.43495120128020737, 0.7159971305520978, 0.40529961252724567, 0.1291306603384352, 0.42644711501534877, 0.12027826578174698, 0.21153068290420493, 0.1211488374279974, 0.1361356961505449, 0.11848862920676026, 0.041213652155744955, 0.10847507365056178, 0.13039648409007182, -0.0238171015881213, -0.025462637957651024, 0.5957811184347558], [0.0013502877430506782, 0.43495120128020737, 1.0, 0.5273811938548395, 0.5442585238078219, -0.0019737020867547908, 0.07720291358769626, -0.0005462471241289544, 0.0017554893171509804, 0.06044636928805721, 0.029421856812452133, 0.06739615507603047, 0.06279376966186874, 0.06712570301173493, -0.000623459766570646, 0.004395131278237083, 0.002499752107137028, 0.43073194924818525], [-0.004649200130602286, 0.7159971305520978, 0.5273811938548395, 1.0, 0.5233278700312418, 0.025916869874114314, 0.36766910056918567, 0.02855389459850081, 0.04118889604709716, 0.038646060893967216, 0.07416052955984404, 0.036370003269133644, 0.011897905189426985, 0.03341590318510509, 0.01358718425290915, -0.013432558997255649, -0.014845240469082236, 0.5105435737347576], [-0.0024088881570628333, 0.40529961252724567, 0.5442585238078219, 0.5233278700312418, 1.0, -0.0040862835619517625, -0.00028011421801751825, 0.0029083373714373956, 0.0014418771362752895, -0.025132352020169113, -0.007407160243690261, -0.0004006050487221635, -0.031859110565889553, -0.0017047131997023593, -0.0030432413950270084, 0.003961542025000364, 0.0036198848763804854, 0.35773735020196284], [0.012230222348860852, 0.1291306603384352, -0.0019737020867547908, 0.025916869874114314, -0.0040862835619517625, 1.0, 0.2538225091856632, 0.5573401124586648, 0.6011004811845486, 0.0607943848154398, 0.03358913516145673, 0.03825080731191152, 0.09250843126018322, 0.038263457149279693, 0.6317857895189894, -0.032900482660354204, -0.03519782828114979, 0.4808318329915499], [-0.027542311731235426, 0.42644711501534877, 0.07720291358769626, 0.36766910056918567, -0.00028011421801751825, 0.2538225091856632, 1.0, 0.4419572935033874, 0.32173141489447077, 0.18391227666750742, 0.16073054356713978, 0.11721278107063376, 0.22411985113589544, 0.10945125959794824, 0.3557143037863864, -0.03049142927893217, -0.03318211126424446, 0.5699942036117522], [-0.03202248370455009, 0.12027826578174698, -0.0005462471241289544, 0.02855389459850081, 0.0029083373714373956, 0.5573401124586648, 0.4419572935033874, 1.0, 0.6174889179159632, 0.1579295820348639, 0.1384334202790144, 0.10244393817845422, 0.2068238441434626, 0.09572614259753617, 0.6698428536104999, -0.034017684960998835, -0.035939995343000734, 0.5726623017709723], [-0.02229928385112214, 0.21153068290420493, 0.0017554893171509804, 0.04118889604709716, 0.0014418771362752895, 0.6011004811845486, 0.32173141489447077, 0.6174889179159632, 1.0, 0.4362635064834265, 0.3551220286767972, 0.3983216690258953, 0.13774359691903842, 0.41767457040561934, 0.6843202034136928, -0.03654525718664767, -0.03971712911094629, 0.7129164356022414], [-0.032559039424103604, 0.1211488374279974, 0.06044636928805721, 0.038646060893967216, -0.025132352020169113, 0.0607943848154398, 0.18391227666750742, 0.1579295820348639, 0.4362635064834265, 1.0, 0.4117460074951086, 0.5304477973543548, 0.25083912943039904, 0.5512944997701373, 0.13950576392459355, -0.03764094789855718, -0.04136040288095034, 0.5241459746759414], [-0.030315769893668423, 0.1361356961505449, 0.029421856812452133, 0.07416052955984404, -0.007407160243690261, 0.03358913516145673, 0.16073054356713978, 0.1384334202790144, 0.3551220286767972, 0.4117460074951086, 1.0, 0.41164030311896666, 0.16794189089109002, 0.41150492842214104, 0.11290042550598763, 0.0036595932530403283, 0.0005369102881039637, 0.46304509183935605], [0.01976839711421719, 0.11848862920676026, 0.06739615507603047, 0.036370003269133644, -0.0004006050487221635, 0.03825080731191152, 0.11721278107063376, 0.10244393817845422, 0.3983216690258953, 0.5304477973543548, 0.41164030311896666, 1.0, 0.24085761635774386, 0.6318032914349865, 0.11192021457626881, -0.00998511035594107, -0.014211858947583977, 0.5013034340841385], [0.0024556504445183125, 0.041213652155744955, 0.06279376966186874, 0.011897905189426985, -0.031859110565889553, 0.09250843126018322, 0.22411985113589544, 0.2068238441434626, 0.13774359691903842, 0.25083912943039904, 0.16794189089109002, 0.24085761635774386, 1.0, 0.24173397443446754, 0.18434441639529767, -0.020895741701443947, -0.02384179378462086, 0.3817562551675765], [0.009431812539732215, 0.10847507365056178, 0.06712570301173493, 0.03341590318510509, -0.0017047131997023593, 0.038263457149279693, 0.10945125959794824, 0.09572614259753617, 0.41767457040561934, 0.5512944997701373, 0.41150492842214104, 0.6318032914349865, 0.24173397443446754, 1.0, 0.10623767812561988, -0.062134346060240216, -0.06704198174953725, 0.5017321269947165], [0.009603524945972946, 0.13039648409007182, -0.000623459766570646, 0.01358718425290915, -0.0030432413950270084, 0.6317857895189894, 0.3557143037863864, 0.6698428536104999, 0.6843202034136928, 0.13950576392459355, 0.11290042550598763, 0.11192021457626881, 0.18434441639529767, 0.10623767812561988, 1.0, -0.02004504262019298, -0.02175726157853445, 0.5715673038634826], [0.11255544011216746, -0.0238171015881213, 0.004395131278237083, -0.013432558997255649, 0.003961542025000364, -0.032900482660354204, -0.03049142927893217, -0.034017684960998835, -0.03654525718664767, -0.03764094789855718, 0.0036595932530403283, -0.00998511035594107, -0.020895741701443947, -0.062134346060240216, -0.02004504262019298, 1.0, 0.9593823533652038, -0.042033013837139054], [0.10973348892058468, -0.025462637957651024, 0.002499752107137028, -0.014845240469082236, 0.0036198848763804854, -0.03519782828114979, -0.03318211126424446, -0.035939995343000734, -0.03971712911094629, -0.04136040288095034, 0.0005369102881039637, -0.014211858947583977, -0.02384179378462086, -0.06704198174953725, -0.02175726157853445, 0.9593823533652038, 1.0, -0.04694032276418253], [-0.020176814289956994, 0.5957811184347558, 0.43073194924818525, 0.5105435737347576, 0.35773735020196284, 0.4808318329915499, 0.5699942036117522, 0.5726623017709723, 0.7129164356022414, 0.5241459746759414, 0.46304509183935605, 0.5013034340841385, 0.3817562551675765, 0.5017321269947165, 0.5715673038634826, -0.042033013837139054, -0.04694032276418253, 1.0]]\n"
     ]
    }
   ],
   "source": [
    "myGraph_vector = assembler.transform(data_new).select(vector_col)\n",
    "matrix = Correlation.corr(myGraph_vector, vector_col).collect()[0][0]\n",
    "corrmatrix = matrix.toArray().tolist()\n",
    "print(corrmatrix)"
   ]
  },
  {
   "cell_type": "code",
   "execution_count": null,
   "metadata": {},
   "outputs": [],
   "source": []
  }
 ],
 "metadata": {
  "kernelspec": {
   "display_name": ".venv",
   "language": "python",
   "name": "python3"
  },
  "language_info": {
   "codemirror_mode": {
    "name": "ipython",
    "version": 3
   },
   "file_extension": ".py",
   "mimetype": "text/x-python",
   "name": "python",
   "nbconvert_exporter": "python",
   "pygments_lexer": "ipython3",
   "version": "3.11.5"
  }
 },
 "nbformat": 4,
 "nbformat_minor": 2
}
