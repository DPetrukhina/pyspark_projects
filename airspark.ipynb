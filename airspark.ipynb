{
 "cells": [
  {
   "cell_type": "markdown",
   "metadata": {},
   "source": [
    "# <a id='toc1_'></a>[Анализ удовлетворённости клиентов авиакомпании с помощью PySpark](#toc0_)\n",
    "\n",
    "Цель проекта: определить влияние различных факторов на уровень удавлетворённости клиентов."
   ]
  },
  {
   "cell_type": "markdown",
   "metadata": {},
   "source": [
    "[Ссылка на датасет](https://www.kaggle.com/datasets/sjleshrac/airlines-customer-satisfaction/data)"
   ]
  },
  {
   "cell_type": "markdown",
   "metadata": {},
   "source": [
    "## Загрузка данных"
   ]
  },
  {
   "cell_type": "code",
   "execution_count": 1,
   "metadata": {},
   "outputs": [],
   "source": [
    "from pyspark.sql import SparkSession\n",
    "from pyspark import SparkConf\n",
    "from pyspark import  SparkContext\n",
    "from pyspark.sql.functions import col, lit\n",
    "from pyspark.sql import functions as F\n",
    "from pyspark.ml.stat import Correlation\n",
    "from pyspark.ml.feature import VectorAssembler"
   ]
  },
  {
   "cell_type": "code",
   "execution_count": 2,
   "metadata": {},
   "outputs": [],
   "source": [
    "spark = SparkSession.builder\\\n",
    "        .master(\"local[*]\")\\\n",
    "        .appName('PySpark_air')\\\n",
    "        .getOrCreate()"
   ]
  },
  {
   "cell_type": "code",
   "execution_count": 3,
   "metadata": {},
   "outputs": [],
   "source": [
    "# чтение CSV файла\n",
    "data = spark.read.csv(\n",
    "    'invistico_airline.csv',\n",
    "    sep=',',\n",
    "    header=True,\n",
    "    inferSchema=True\n",
    ")"
   ]
  },
  {
   "cell_type": "code",
   "execution_count": 4,
   "metadata": {},
   "outputs": [
    {
     "name": "stdout",
     "output_type": "stream",
     "text": [
      "root\n",
      " |-- satisfaction: string (nullable = true)\n",
      " |-- Gender: string (nullable = true)\n",
      " |-- Customer Type: string (nullable = true)\n",
      " |-- Age: integer (nullable = true)\n",
      " |-- Type of Travel: string (nullable = true)\n",
      " |-- Class: string (nullable = true)\n",
      " |-- Flight Distance: integer (nullable = true)\n",
      " |-- Seat comfort: integer (nullable = true)\n",
      " |-- Departure/Arrival time convenient: integer (nullable = true)\n",
      " |-- Food and drink: integer (nullable = true)\n",
      " |-- Gate location: integer (nullable = true)\n",
      " |-- Inflight wifi service: integer (nullable = true)\n",
      " |-- Inflight entertainment: integer (nullable = true)\n",
      " |-- Online support: integer (nullable = true)\n",
      " |-- Ease of Online booking: integer (nullable = true)\n",
      " |-- On-board service: integer (nullable = true)\n",
      " |-- Leg room service: integer (nullable = true)\n",
      " |-- Baggage handling: integer (nullable = true)\n",
      " |-- Checkin service: integer (nullable = true)\n",
      " |-- Cleanliness: integer (nullable = true)\n",
      " |-- Online boarding: integer (nullable = true)\n",
      " |-- Departure Delay in Minutes: integer (nullable = true)\n",
      " |-- Arrival Delay in Minutes: integer (nullable = true)\n",
      "\n"
     ]
    }
   ],
   "source": [
    "data.printSchema()"
   ]
  },
  {
   "cell_type": "markdown",
   "metadata": {},
   "source": [
    "## Проверка данных и предобработка"
   ]
  },
  {
   "cell_type": "code",
   "execution_count": 5,
   "metadata": {},
   "outputs": [
    {
     "name": "stdout",
     "output_type": "stream",
     "text": [
      "+------------+------+--------------+---+---------------+--------+---------------+------------+---------------------------------+--------------+-------------+---------------------+----------------------+--------------+----------------------+----------------+----------------+----------------+---------------+-----------+---------------+--------------------------+------------------------+\n",
      "|satisfaction|gender| customer_type|age| type_of_travel|   class|flight_distance|seat_comfort|departure_arrival_time_convenient|food_and_drink|gate_location|inflight_wifi_service|inflight_entertainment|online_support|ease_of_online_booking|on_board_service|leg_room_service|baggage_handling|checkin_service|cleanliness|online_boarding|departure_delay_in_minutes|arrival_delay_in_minutes|\n",
      "+------------+------+--------------+---+---------------+--------+---------------+------------+---------------------------------+--------------+-------------+---------------------+----------------------+--------------+----------------------+----------------+----------------+----------------+---------------+-----------+---------------+--------------------------+------------------------+\n",
      "|   satisfied|Female|Loyal Customer| 65|Personal Travel|     Eco|            265|           0|                                0|             0|            2|                    2|                     4|             2|                     3|               3|               0|               3|              5|          3|              2|                         0|                       0|\n",
      "|   satisfied|  Male|Loyal Customer| 47|Personal Travel|Business|           2464|           0|                                0|             0|            3|                    0|                     2|             2|                     3|               4|               4|               4|              2|          3|              2|                       310|                     305|\n",
      "+------------+------+--------------+---+---------------+--------+---------------+------------+---------------------------------+--------------+-------------+---------------------+----------------------+--------------+----------------------+----------------+----------------+----------------+---------------+-----------+---------------+--------------------------+------------------------+\n",
      "only showing top 2 rows\n",
      "\n"
     ]
    }
   ],
   "source": [
    "data = data.select([F.col(x).alias(x.lower()) for x in data.columns])\n",
    "data = data.select([F.col(x).alias(x.replace(' ', '_')) for x in data.columns])\n",
    "data = data.select([F.col(x).alias(x.replace('/', '_')) for x in data.columns])\n",
    "data = data.select([F.col(x).alias(x.replace('-', '_')) for x in data.columns])\n",
    "data.show(2)"
   ]
  },
  {
   "cell_type": "code",
   "execution_count": 6,
   "metadata": {},
   "outputs": [
    {
     "data": {
      "text/plain": [
       "[Row(satisfaction='satisfied', gender='Female', customer_type='Loyal Customer', age=65, type_of_travel='Personal Travel', class='Eco', flight_distance=265, seat_comfort=0, departure_arrival_time_convenient=0, food_and_drink=0, gate_location=2, inflight_wifi_service=2, inflight_entertainment=4, online_support=2, ease_of_online_booking=3, on_board_service=3, leg_room_service=0, baggage_handling=3, checkin_service=5, cleanliness=3, online_boarding=2, departure_delay_in_minutes=0, arrival_delay_in_minutes=0),\n",
       " Row(satisfaction='satisfied', gender='Male', customer_type='Loyal Customer', age=47, type_of_travel='Personal Travel', class='Business', flight_distance=2464, seat_comfort=0, departure_arrival_time_convenient=0, food_and_drink=0, gate_location=3, inflight_wifi_service=0, inflight_entertainment=2, online_support=2, ease_of_online_booking=3, on_board_service=4, leg_room_service=4, baggage_handling=4, checkin_service=2, cleanliness=3, online_boarding=2, departure_delay_in_minutes=310, arrival_delay_in_minutes=305),\n",
       " Row(satisfaction='satisfied', gender='Female', customer_type='Loyal Customer', age=15, type_of_travel='Personal Travel', class='Eco', flight_distance=2138, seat_comfort=0, departure_arrival_time_convenient=0, food_and_drink=0, gate_location=3, inflight_wifi_service=2, inflight_entertainment=0, online_support=2, ease_of_online_booking=2, on_board_service=3, leg_room_service=3, baggage_handling=4, checkin_service=4, cleanliness=4, online_boarding=2, departure_delay_in_minutes=0, arrival_delay_in_minutes=0)]"
      ]
     },
     "execution_count": 6,
     "metadata": {},
     "output_type": "execute_result"
    }
   ],
   "source": [
    "data.head(3)"
   ]
  },
  {
   "cell_type": "code",
   "execution_count": 7,
   "metadata": {},
   "outputs": [
    {
     "data": {
      "text/plain": [
       "DataFrame[summary: string, satisfaction: string, gender: string, customer_type: string, age: string, type_of_travel: string, class: string, flight_distance: string, seat_comfort: string, departure_arrival_time_convenient: string, food_and_drink: string, gate_location: string, inflight_wifi_service: string, inflight_entertainment: string, online_support: string, ease_of_online_booking: string, on_board_service: string, leg_room_service: string, baggage_handling: string, checkin_service: string, cleanliness: string, online_boarding: string, departure_delay_in_minutes: string, arrival_delay_in_minutes: string]"
      ]
     },
     "execution_count": 7,
     "metadata": {},
     "output_type": "execute_result"
    }
   ],
   "source": [
    "data.describe()"
   ]
  },
  {
   "cell_type": "code",
   "execution_count": 8,
   "metadata": {},
   "outputs": [
    {
     "data": {
      "text/plain": [
       "satisfaction                            2\n",
       "gender                                  2\n",
       "customer_type                           2\n",
       "age                                    75\n",
       "type_of_travel                          2\n",
       "class                                   3\n",
       "flight_distance                      5398\n",
       "seat_comfort                            6\n",
       "departure_arrival_time_convenient       6\n",
       "food_and_drink                          6\n",
       "gate_location                           6\n",
       "inflight_wifi_service                   6\n",
       "inflight_entertainment                  6\n",
       "online_support                          6\n",
       "ease_of_online_booking                  6\n",
       "on_board_service                        6\n",
       "leg_room_service                        6\n",
       "baggage_handling                        5\n",
       "checkin_service                         6\n",
       "cleanliness                             6\n",
       "online_boarding                         6\n",
       "departure_delay_in_minutes            466\n",
       "arrival_delay_in_minutes              472\n",
       "dtype: int64"
      ]
     },
     "execution_count": 8,
     "metadata": {},
     "output_type": "execute_result"
    }
   ],
   "source": [
    "data.toPandas().nunique()"
   ]
  },
  {
   "cell_type": "code",
   "execution_count": 9,
   "metadata": {},
   "outputs": [
    {
     "data": {
      "text/plain": [
       "array(['satisfied', 'dissatisfied'], dtype=object)"
      ]
     },
     "execution_count": 9,
     "metadata": {},
     "output_type": "execute_result"
    }
   ],
   "source": [
    "data.toPandas()['satisfaction'].unique()"
   ]
  },
  {
   "cell_type": "code",
   "execution_count": 10,
   "metadata": {},
   "outputs": [
    {
     "name": "stdout",
     "output_type": "stream",
     "text": [
      "+------------+------+--------------+---+---------------+--------+---------------+------------+---------------------------------+--------------+-------------+---------------------+----------------------+--------------+----------------------+----------------+----------------+----------------+---------------+-----------+---------------+--------------------------+------------------------+-----+\n",
      "|satisfaction|gender| customer_type|age| type_of_travel|   class|flight_distance|seat_comfort|departure_arrival_time_convenient|food_and_drink|gate_location|inflight_wifi_service|inflight_entertainment|online_support|ease_of_online_booking|on_board_service|leg_room_service|baggage_handling|checkin_service|cleanliness|online_boarding|departure_delay_in_minutes|arrival_delay_in_minutes|total|\n",
      "+------------+------+--------------+---+---------------+--------+---------------+------------+---------------------------------+--------------+-------------+---------------------+----------------------+--------------+----------------------+----------------+----------------+----------------+---------------+-----------+---------------+--------------------------+------------------------+-----+\n",
      "|   satisfied|Female|Loyal Customer| 65|Personal Travel|     Eco|            265|           0|                                0|             0|            2|                    2|                     4|             2|                     3|               3|               0|               3|              5|          3|              2|                         0|                       0|   29|\n",
      "|   satisfied|  Male|Loyal Customer| 47|Personal Travel|Business|           2464|           0|                                0|             0|            3|                    0|                     2|             2|                     3|               4|               4|               4|              2|          3|              2|                       310|                     305|   29|\n",
      "|   satisfied|Female|Loyal Customer| 15|Personal Travel|     Eco|           2138|           0|                                0|             0|            3|                    2|                     0|             2|                     2|               3|               3|               4|              4|          4|              2|                         0|                       0|   29|\n",
      "|   satisfied|Female|Loyal Customer| 60|Personal Travel|     Eco|            623|           0|                                0|             0|            3|                    3|                     4|             3|                     1|               1|               0|               1|              4|          1|              3|                         0|                       0|   24|\n",
      "|   satisfied|Female|Loyal Customer| 70|Personal Travel|     Eco|            354|           0|                                0|             0|            3|                    4|                     3|             4|                     2|               2|               0|               2|              4|          2|              5|                         0|                       0|   31|\n",
      "+------------+------+--------------+---+---------------+--------+---------------+------------+---------------------------------+--------------+-------------+---------------------+----------------------+--------------+----------------------+----------------+----------------+----------------+---------------+-----------+---------------+--------------------------+------------------------+-----+\n",
      "only showing top 5 rows\n",
      "\n"
     ]
    }
   ],
   "source": [
    "data = data.withColumn('total', data.seat_comfort + data.departure_arrival_time_convenient + \\\n",
    "               data.food_and_drink + data.gate_location + data.inflight_wifi_service + \\\n",
    "               data.inflight_entertainment + data.online_support + data.ease_of_online_booking + \\\n",
    "               data.on_board_service + data.leg_room_service + data.baggage_handling + \\\n",
    "               data.checkin_service + data.cleanliness + data.online_boarding)\n",
    "data.show(5)"
   ]
  },
  {
   "cell_type": "code",
   "execution_count": 11,
   "metadata": {},
   "outputs": [
    {
     "data": {
      "text/plain": [
       "[('satisfaction', 'string'),\n",
       " ('gender', 'string'),\n",
       " ('customer_type', 'string'),\n",
       " ('age', 'int'),\n",
       " ('type_of_travel', 'string'),\n",
       " ('class', 'string'),\n",
       " ('flight_distance', 'int'),\n",
       " ('seat_comfort', 'int'),\n",
       " ('departure_arrival_time_convenient', 'int'),\n",
       " ('food_and_drink', 'int'),\n",
       " ('gate_location', 'int'),\n",
       " ('inflight_wifi_service', 'int'),\n",
       " ('inflight_entertainment', 'int'),\n",
       " ('online_support', 'int'),\n",
       " ('ease_of_online_booking', 'int'),\n",
       " ('on_board_service', 'int'),\n",
       " ('leg_room_service', 'int'),\n",
       " ('baggage_handling', 'int'),\n",
       " ('checkin_service', 'int'),\n",
       " ('cleanliness', 'int'),\n",
       " ('online_boarding', 'int'),\n",
       " ('departure_delay_in_minutes', 'int'),\n",
       " ('arrival_delay_in_minutes', 'int'),\n",
       " ('total', 'int')]"
      ]
     },
     "execution_count": 11,
     "metadata": {},
     "output_type": "execute_result"
    }
   ],
   "source": [
    "data.dtypes"
   ]
  },
  {
   "cell_type": "markdown",
   "metadata": {},
   "source": [
    "## Обзор совокупного показателя"
   ]
  },
  {
   "cell_type": "code",
   "execution_count": 12,
   "metadata": {},
   "outputs": [
    {
     "data": {
      "text/plain": [
       "70"
      ]
     },
     "execution_count": 12,
     "metadata": {},
     "output_type": "execute_result"
    }
   ],
   "source": [
    "data.agg({\"total\": \"max\"}).collect()[0][0]"
   ]
  },
  {
   "cell_type": "code",
   "execution_count": 13,
   "metadata": {},
   "outputs": [
    {
     "name": "stdout",
     "output_type": "stream",
     "text": [
      "+------------+------+--------------+---+---------------+--------+---------------+------------+---------------------------------+--------------+-------------+---------------------+----------------------+--------------+----------------------+----------------+----------------+----------------+---------------+-----------+---------------+--------------------------+------------------------+-----+\n",
      "|satisfaction|gender| customer_type|age| type_of_travel|   class|flight_distance|seat_comfort|departure_arrival_time_convenient|food_and_drink|gate_location|inflight_wifi_service|inflight_entertainment|online_support|ease_of_online_booking|on_board_service|leg_room_service|baggage_handling|checkin_service|cleanliness|online_boarding|departure_delay_in_minutes|arrival_delay_in_minutes|total|\n",
      "+------------+------+--------------+---+---------------+--------+---------------+------------+---------------------------------+--------------+-------------+---------------------+----------------------+--------------+----------------------+----------------+----------------+----------------+---------------+-----------+---------------+--------------------------+------------------------+-----+\n",
      "|   satisfied|Female|Loyal Customer| 65|Personal Travel|     Eco|            398|           5|                                5|             5|            5|                    5|                     5|             5|                     5|               5|               5|               5|              5|          5|              5|                         0|                       3|   70|\n",
      "|   satisfied|  Male|Loyal Customer| 47|Business travel|Business|           2601|           5|                                5|             5|            5|                    5|                     5|             5|                     5|               5|               5|               5|              5|          5|              5|                         1|                       0|   70|\n",
      "|   satisfied|  Male|Loyal Customer| 53|Business travel|Business|           3594|           5|                                5|             5|            5|                    5|                     5|             5|                     5|               5|               5|               5|              5|          5|              5|                        29|                      23|   70|\n",
      "|   satisfied|  Male|Loyal Customer| 45|Business travel|Business|            301|           5|                                5|             5|            5|                    5|                     5|             5|                     5|               5|               5|               5|              5|          5|              5|                        28|                      81|   70|\n",
      "|   satisfied|  Male|Loyal Customer| 39|Business travel|Business|           2332|           5|                                5|             5|            5|                    5|                     5|             5|                     5|               5|               5|               5|              5|          5|              5|                       124|                     120|   70|\n",
      "+------------+------+--------------+---+---------------+--------+---------------+------------+---------------------------------+--------------+-------------+---------------------+----------------------+--------------+----------------------+----------------+----------------+----------------+---------------+-----------+---------------+--------------------------+------------------------+-----+\n",
      "only showing top 5 rows\n",
      "\n"
     ]
    }
   ],
   "source": [
    "data.filter(col('total') == lit(70)).show(5)"
   ]
  },
  {
   "cell_type": "code",
   "execution_count": 14,
   "metadata": {},
   "outputs": [
    {
     "data": {
      "text/plain": [
       "15"
      ]
     },
     "execution_count": 14,
     "metadata": {},
     "output_type": "execute_result"
    }
   ],
   "source": [
    "data.select(F.min(F.col(\"total\")).alias(\"MIN\")).limit(1).collect()[0].MIN"
   ]
  },
  {
   "cell_type": "code",
   "execution_count": 15,
   "metadata": {},
   "outputs": [
    {
     "name": "stdout",
     "output_type": "stream",
     "text": [
      "+------------+------+-----------------+---+---------------+--------+---------------+------------+---------------------------------+--------------+-------------+---------------------+----------------------+--------------+----------------------+----------------+----------------+----------------+---------------+-----------+---------------+--------------------------+------------------------+-----+\n",
      "|satisfaction|gender|    customer_type|age| type_of_travel|   class|flight_distance|seat_comfort|departure_arrival_time_convenient|food_and_drink|gate_location|inflight_wifi_service|inflight_entertainment|online_support|ease_of_online_booking|on_board_service|leg_room_service|baggage_handling|checkin_service|cleanliness|online_boarding|departure_delay_in_minutes|arrival_delay_in_minutes|total|\n",
      "+------------+------+-----------------+---+---------------+--------+---------------+------------+---------------------------------+--------------+-------------+---------------------+----------------------+--------------+----------------------+----------------+----------------+----------------+---------------+-----------+---------------+--------------------------+------------------------+-----+\n",
      "|   satisfied|Female|   Loyal Customer| 52|Personal Travel|Business|           2610|           0|                                1|             0|            2|                    1|                     2|             2|                     1|               1|               0|               1|              2|          1|              3|                         0|                       0|   17|\n",
      "|   satisfied|Female|   Loyal Customer| 55|Personal Travel|     Eco|           2554|           0|                                1|             0|            2|                    0|                     1|             1|                     2|               1|               1|               2|              1|          3|              1|                         0|                       0|   16|\n",
      "|   satisfied|  Male|   Loyal Customer| 32|Personal Travel|     Eco|           2343|           0|                                1|             0|            3|                    1|                     0|             1|                     1|               2|               2|               1|              1|          3|              1|                         0|                       0|   17|\n",
      "|   satisfied|  Male|   Loyal Customer|  7|Personal Travel|     Eco|           1817|           0|                                3|             0|            1|                    1|                     0|             1|                     1|               1|               2|               2|              1|          3|              1|                         1|                       5|   17|\n",
      "|   satisfied|Female|   Loyal Customer| 35|Personal Travel|     Eco|           2393|           0|                                1|             0|            2|                    1|                     2|             2|                     1|               1|               0|               1|              2|          1|              3|                         0|                       9|   17|\n",
      "|   satisfied|Female|   Loyal Customer| 24|Personal Travel|     Eco|           1808|           0|                                1|             0|            2|                    0|                     1|             1|                     2|               1|               1|               2|              1|          3|              1|                        23|                      90|   16|\n",
      "|   satisfied|Female|   Loyal Customer| 18|Personal Travel|     Eco|           3529|           0|                                0|             0|            1|                    1|                     3|             2|                     1|               1|               1|               1|              4|          1|              1|                         0|                       0|   17|\n",
      "|   satisfied|Female|   Loyal Customer| 51|Personal Travel|     Eco|           1351|           0|                                0|             0|            4|                    1|                     1|             1|                     1|               1|               1|               2|              1|          1|              1|                         0|                       0|   15|\n",
      "|dissatisfied|  Male|disloyal Customer| 41|Business travel|     Eco|           1546|           1|                                0|             1|            1|                    1|                     1|             1|                     1|               1|               3|               1|              2|          2|              1|                         0|                       0|   17|\n",
      "|dissatisfied|  Male|disloyal Customer| 24|Business travel|     Eco|           1791|           1|                                1|             1|            1|                    1|                     1|             1|                     1|               1|               3|               1|              2|          1|              1|                         0|                       0|   17|\n",
      "|   satisfied|Female|   Loyal Customer| 62|Business travel|Business|           3663|           0|                                0|             0|            1|                    1|                     3|             2|                     1|               1|               1|               1|              4|          1|              1|                         0|                       0|   17|\n",
      "|   satisfied|  Male|   Loyal Customer| 33|Business travel|     Eco|           1815|           0|                                0|             0|            2|                    1|                     3|             1|                     1|               1|               2|               2|              2|          1|              1|                         0|                       0|   17|\n",
      "|   satisfied|  Male|   Loyal Customer| 32|Business travel|     Eco|           2077|           0|                                0|             0|            3|                    1|                     0|             1|                     1|               3|               1|               1|              1|          2|              1|                         0|                       0|   15|\n",
      "|   satisfied|Female|   Loyal Customer| 22|Business travel|Business|           2135|           0|                                0|             0|            4|                    1|                     1|             1|                     1|               1|               1|               2|              1|          1|              1|                        50|                      48|   15|\n",
      "|dissatisfied|Female|   Loyal Customer| 48|Business travel|Business|           2120|           1|                                0|             0|            1|                    3|                     1|             1|                     1|               1|               0|               1|              4|          1|              2|                        97|                      84|   17|\n",
      "|dissatisfied|Female|   Loyal Customer| 71|Business travel|     Eco|            241|           1|                                0|             0|            2|                    3|                     2|             1|                     1|               1|               1|               1|              2|          1|              1|                         0|                       0|   17|\n",
      "|dissatisfied|  Male|   Loyal Customer| 42|Business travel|Business|           3332|           1|                                1|             1|            1|                    2|                     1|             1|                     1|               1|               1|               1|              1|          1|              3|                         0|                       7|   17|\n",
      "|dissatisfied|Female|   Loyal Customer| 57|Business travel|Business|           1942|           1|                                1|             1|            1|                    2|                     1|             1|                     1|               1|               1|               1|              2|          1|              1|                        31|                      26|   16|\n",
      "|dissatisfied|  Male|   Loyal Customer| 33|Business travel|     Eco|           2151|           1|                                1|             1|            1|                    1|                     1|             1|                     2|               1|               1|               1|              1|          3|              1|                       131|                     143|   17|\n",
      "|dissatisfied|Female|   Loyal Customer| 28|Business travel|Eco Plus|           1491|           1|                                1|             1|            1|                    1|                     1|             1|                     1|               1|               2|               2|              1|          1|              1|                        22|                      27|   16|\n",
      "|dissatisfied|  Male|   Loyal Customer| 44|Business travel|Business|           1776|           1|                                1|             1|            1|                    1|                     1|             2|                     1|               1|               1|               1|              2|          1|              2|                         0|                       0|   17|\n",
      "|dissatisfied|Female|   Loyal Customer| 45|Business travel|Business|            450|           1|                                1|             1|            1|                    1|                     2|             2|                     1|               1|               1|               1|              2|          1|              1|                        28|                      22|   17|\n",
      "|dissatisfied|  Male|   Loyal Customer| 32|Business travel|Business|           1843|           1|                                1|             1|            1|                    1|                     1|             1|                     1|               1|               1|               2|              2|          2|              1|                         1|                       4|   17|\n",
      "|dissatisfied|Female|   Loyal Customer| 53|Business travel|Business|           3510|           1|                                1|             1|            1|                    2|                     1|             1|                     1|               1|               1|               1|              2|          1|              1|                         3|                       7|   16|\n",
      "|dissatisfied|  Male|   Loyal Customer| 77|Business travel|Business|           2064|           1|                                1|             1|            1|                    2|                     1|             1|                     1|               1|               1|               1|              1|          1|              3|                         0|                       0|   17|\n",
      "|dissatisfied|  Male|   Loyal Customer| 41|Business travel|     Eco|           2196|           1|                                1|             1|            1|                    1|                     1|             1|                     1|               1|               3|               1|              1|          2|              1|                         0|                       0|   17|\n",
      "+------------+------+-----------------+---+---------------+--------+---------------+------------+---------------------------------+--------------+-------------+---------------------+----------------------+--------------+----------------------+----------------+----------------+----------------+---------------+-----------+---------------+--------------------------+------------------------+-----+\n",
      "\n"
     ]
    }
   ],
   "source": [
    "data.filter(col('total') < lit(18)).show(50)"
   ]
  },
  {
   "cell_type": "markdown",
   "metadata": {},
   "source": [
    "## Средние показатели"
   ]
  },
  {
   "cell_type": "code",
   "execution_count": 16,
   "metadata": {},
   "outputs": [
    {
     "name": "stdout",
     "output_type": "stream",
     "text": [
      "+------------+------+-----------------+---------------+--------+------------------+------------------+---------------------------------+------------------+------------------+---------------------+----------------------+------------------+----------------------+------------------+------------------+------------------+------------------+------------------+------------------+\n",
      "|satisfaction|gender|    customer_type| type_of_travel|   class|             total|      seat_comfort|departure_arrival_time_convenient|    food_and_drink|     gate_location|inflight_wifi_service|inflight_entertainment|    online_support|ease_of_online_booking|  on_board_service|  leg_room_service|  baggage_handling|   checkin_service|       cleanliness|   online_boarding|\n",
      "+------------+------+-----------------+---------------+--------+------------------+------------------+---------------------------------+------------------+------------------+---------------------+----------------------+------------------+----------------------+------------------+------------------+------------------+------------------+------------------+------------------+\n",
      "|   satisfied|  Male|disloyal Customer|Personal Travel|     Eco|  45.1764705882353|3.3529411764705883|               3.5294117647058822| 3.176470588235294|3.2941176470588234|   3.1176470588235294|     3.235294117647059| 3.235294117647059|    3.1176470588235294|2.6470588235294117|3.3529411764705883|3.4705882352941178|               3.0|3.5294117647058822|3.1176470588235294|\n",
      "|   satisfied|  Male|disloyal Customer|Business travel|Eco Plus|43.857142857142854|               4.0|                2.357142857142857| 4.142857142857143| 2.642857142857143|   2.9285714285714284|                   4.0|2.7857142857142856|    2.7142857142857144|2.5714285714285716|               3.5|3.2857142857142856| 3.357142857142857|2.7857142857142856|2.7857142857142856|\n",
      "|   satisfied|  Male|disloyal Customer|Business travel|     Eco| 46.48021390374331|3.7818181818181817|               2.6663101604278077|3.7379679144385025|2.8181818181818183|    3.128342245989305|    3.6705882352941175| 2.996791443850267|    3.1058823529411765|3.4513368983957218| 3.186096256684492| 3.685561497326203|3.4363636363636365|3.7294117647058824| 3.085561497326203|\n",
      "|   satisfied|  Male|disloyal Customer|Business travel|Business| 49.10313901345292| 3.734304932735426|                2.727578475336323|3.6939461883408073| 2.850336322869955|    3.133968609865471|    3.6440582959641254|3.0269058295964126|    3.1463004484304933| 3.899663677130045| 3.475896860986547| 4.364910313901345|3.9332959641255605|4.3576233183856505|3.1143497757847536|\n",
      "|   satisfied|Female|disloyal Customer|Personal Travel|     Eco|              49.4|               4.4|               3.6666666666666665| 4.266666666666667|               2.8|    2.933333333333333|     4.266666666666667|3.1333333333333333|     2.933333333333333|3.2666666666666666| 3.533333333333333|3.7333333333333334|3.7333333333333334|               3.8| 2.933333333333333|\n",
      "|   satisfied|Female|disloyal Customer|Business travel|Eco Plus| 42.13559322033898|3.2203389830508473|                2.406779661016949|  3.23728813559322|2.6779661016949152|   3.0677966101694913|    3.0677966101694913|               3.0|    3.0508474576271185|               3.0|2.7288135593220337|3.0677966101694913| 3.305084745762712|  3.23728813559322|3.0677966101694913|\n",
      "|   satisfied|Female|disloyal Customer|Business travel|     Eco| 46.04108216432866|3.6342685370741483|               2.6573146292585172|3.6092184368737477| 2.779559118236473|   3.1683366733466936|    3.5390781563126255|3.1092184368737477|     3.152304609218437|3.3847695390781563|3.1733466933867733|3.6633266533066133| 3.428857715430862| 3.600200400801603|3.1412825651302607|\n",
      "|   satisfied|Female|disloyal Customer|Business travel|Business| 48.90255591054313| 3.747071352502662|               2.7933972310969115| 3.697018104366347| 2.830670926517572|   3.0724174653887113|     3.652822151224707|  2.99307774227902|    3.0740149094781684| 3.889243876464324|3.5303514376996805| 4.350372736954206| 3.876996805111821| 4.358892438764643|3.0362087326943556|\n",
      "|   satisfied|  Male|   Loyal Customer|Personal Travel|Eco Plus|46.474747474747474|3.6262626262626263|                3.702020202020202|  3.48989898989899|2.7626262626262625|   2.9797979797979797|    3.4494949494949494|2.9393939393939394|    2.9545454545454546|3.3282828282828283|3.3181818181818183| 3.792929292929293|3.2777777777777777| 3.893939393939394|  2.95959595959596|\n",
      "|   satisfied|  Male|   Loyal Customer|Personal Travel|     Eco| 47.09818181818182|3.6587878787878787|               3.6951515151515153|3.4745454545454546|2.9527272727272726|   3.0939393939393938|      3.45030303030303| 3.021818181818182|    3.0775757575757576|3.3678787878787877|              3.24| 3.786060606060606|3.3678787878787877|3.8333333333333335| 3.078181818181818|\n",
      "|   satisfied|  Male|   Loyal Customer|Personal Travel|Business| 45.80124223602485|3.4906832298136647|                3.652173913043478| 3.391304347826087|2.8819875776397517|   3.1739130434782608|    3.7453416149068324| 3.540372670807453|    2.8447204968944098| 2.968944099378882|3.3167701863354035|3.1552795031055902|3.2857142857142856|3.1614906832298137|3.1925465838509317|\n",
      "|   satisfied|  Male|   Loyal Customer|Business travel|Eco Plus| 48.28708644610459| 3.927427961579509|                2.965848452508004|2.8516542155816436|3.0437566702241194|   4.1579509071504805|    3.9818569903948773| 4.132337246531484|     4.144076840981857|2.9135538954108857| 2.933831376734258|2.9978655282817503| 3.048025613660619|3.0192102454642478| 4.169690501600853|\n",
      "|   satisfied|  Male|   Loyal Customer|Business travel|     Eco|  48.8082336382829|  4.07670654468684|               2.9275158339197747|2.9567206192821955|2.9926108374384235|     4.18015482054891|    4.1182266009852215|  4.15411681914145|     4.144968332160451| 2.984517945109078|2.9489795918367347|3.0207600281491906|3.0988740323715693| 3.023926812104152|  4.18015482054891|\n",
      "|   satisfied|  Male|   Loyal Customer|Business travel|Business| 51.76637276387544| 2.863768411395953|                2.930023953926915|2.9134091024922277|2.9965852912695583|     3.56505784618521|     4.189490851638551| 4.202741960144743|    4.1493297997043985| 4.043524794862647| 4.029101472911676| 4.109525508383874|3.7773304112940216| 4.110035166403343| 3.886448193262321|\n",
      "|   satisfied|Female|   Loyal Customer|Personal Travel|Eco Plus| 50.56751054852321|3.1798523206751055|               3.0237341772151898|3.0453586497890295|2.9688818565400843|   3.4588607594936707|     4.020042194092827| 3.975210970464135|     3.970991561181435|3.8834388185654007|3.8739451476793247| 3.918776371308017|3.6297468354430378| 3.943565400843882|3.6751054852320677|\n",
      "|   satisfied|Female|   Loyal Customer|Personal Travel|     Eco| 50.37147232553052| 3.151535039743309|                3.079122001020929|2.9981769124188724| 2.979435572084883|    3.462335010573908|     3.955224969007511| 3.964340406913148|    3.9366294756800118| 3.843214468023044| 3.857142857142857| 3.912783490118865|3.5968059505578647|3.9356085466345805|3.6991176256107345|\n",
      "|   satisfied|Female|   Loyal Customer|Personal Travel|Business| 49.86679000925069| 3.131359851988899|               3.0240518038852913|2.9629972247918595|  2.91581868640148|   3.4412580943570767|    3.9380203515263643|3.9472710453283995|    3.8806660499537466|3.7705827937095284|3.8122109158186865| 3.866790009250694|3.5864939870490287| 3.884366327474561|3.7049028677150786|\n",
      "|   satisfied|Female|   Loyal Customer|Business travel|Eco Plus| 48.03825136612022|3.9169398907103825|                2.873224043715847|               2.8|2.9978142076502734|    3.642622950819672|    3.4786885245901638| 3.589071038251366|     4.107103825136612|3.4939890710382513|3.4754098360655736|3.4863387978142075| 3.045901639344262| 3.487431693989071|3.6437158469945357|\n",
      "|   satisfied|Female|   Loyal Customer|Business travel|     Eco|48.805922226186226| 4.090973956475205|                2.957902247591866|2.9521940777738136| 3.011059579022476|    3.503745986443097|    3.5066000713521226| 3.506956831965751|     4.115947199429183|3.6453799500535142|3.6660720656439527|3.6503745986443095|3.0435247948626474|3.6460934712807704|3.5090973956475207|\n",
      "|   satisfied|Female|   Loyal Customer|Business travel|Business| 51.79943791517629| 2.857894736842105|               2.9312723556463975|2.9059274399591213|  2.99443025038324|   3.5625958099131325|     4.172202350536535|4.2082268778742975|     4.154982115482882|4.0506898313745525| 4.059376596831886| 4.116351558507921|3.7805314256515072|4.1199284619315275|3.8850281042411856|\n",
      "|dissatisfied|  Male|disloyal Customer|Personal Travel|Eco Plus|             41.75|               2.5|                              3.5|               2.5|               3.0|                  2.5|                   2.5|               2.5|                   2.5|               4.0|               3.0|              3.25|              2.75|              4.75|               2.5|\n",
      "|dissatisfied|  Male|disloyal Customer|Personal Travel|     Eco|             43.84| 2.453333333333333|                             3.68|2.3733333333333335|              2.84|   3.0533333333333332|    2.3466666666666667|               3.0|     3.066666666666667|               3.4|3.2533333333333334|              3.92|3.4133333333333336| 3.986666666666667|3.0533333333333332|\n",
      "|dissatisfied|  Male|disloyal Customer|Personal Travel|Business|              41.5|               3.0|                4.166666666666667|3.1666666666666665|               3.0|   2.3333333333333335|                   3.0|2.3333333333333335|                   2.5|2.8333333333333335|2.6666666666666665|3.8333333333333335|2.8333333333333335|3.6666666666666665|2.1666666666666665|\n",
      "|dissatisfied|  Male|disloyal Customer|Business travel|Eco Plus| 39.68181818181818| 2.414772727272727|               2.2954545454545454| 2.409090909090909| 3.147727272727273|   3.0681818181818183|     2.477272727272727| 3.022727272727273|     3.090909090909091|2.5511363636363638|3.3068181818181817| 3.039772727272727| 2.789772727272727|2.9318181818181817|3.1363636363636362|\n",
      "|dissatisfied|  Male|disloyal Customer|Business travel|     Eco| 40.11762466692044|2.4069280548153786|                2.249904834411877|2.4067377236391323|3.0513894175866008|     3.01827179291968|    2.4373810430148457|   2.9971450323563|     3.038066235249334|2.8814236771983253|3.0860296916634944|3.3079558431671106|2.8635325466311383|3.3218500190331177| 3.051008755234107|\n",
      "|dissatisfied|  Male|disloyal Customer|Business travel|Business| 43.48428143712575|2.3809880239520957|               2.3690119760479043|2.3884730538922154|2.9262724550898205|   3.0261976047904193|    2.4127994011976046|3.0082335329341316|     3.061751497005988|3.6051646706586826|3.4214071856287425| 4.119011976047904| 3.605538922155689| 4.104041916167665| 3.055389221556886|\n",
      "|dissatisfied|Female|disloyal Customer|Personal Travel|     Eco|  42.8051948051948|2.1948051948051948|               3.6493506493506493| 2.103896103896104| 2.948051948051948|   3.2337662337662336|    2.1298701298701297| 3.038961038961039|    3.2467532467532467|3.4805194805194803|3.0779220779220777|3.6363636363636362| 3.103896103896104| 3.675324675324675|3.2857142857142856|\n",
      "|dissatisfied|Female|disloyal Customer|Personal Travel|Business|40.142857142857146|2.7142857142857144|                4.142857142857143|2.2857142857142856|2.5714285714285716|   2.2857142857142856|    2.2857142857142856| 2.142857142857143|    2.2857142857142856|2.7142857142857144|3.7142857142857144|               4.0|3.2857142857142856|3.4285714285714284|2.2857142857142856|\n",
      "|dissatisfied|Female|disloyal Customer|Business travel|Eco Plus|39.685800604229605|2.3700906344410875|               2.2658610271903323|2.3459214501510575|3.1706948640483383|    3.039274924471299|     2.400302114803625|3.0422960725075527|    3.0332326283987916|2.7794561933534743|3.0604229607250755| 3.187311178247734| 2.712990936555891|3.1963746223564953| 3.081570996978852|\n",
      "|dissatisfied|Female|disloyal Customer|Business travel|     Eco| 39.95752834105061| 2.382404598435255|                2.194315823087977|2.3897493214114642|3.1025067858853586|    3.031135238703497|     2.418808877534728| 3.011655756027463|    3.0367236148810473|2.8289956889669488| 3.053648411304487|3.3212517962637715|2.7906753951780296|3.3341848954175317|3.0614721379530576|\n",
      "|dissatisfied|Female|disloyal Customer|Business travel|Business|43.495492371705964| 2.409847434119279|                2.383841886269071|2.4042995839112344|2.9653259361997226|   2.9947988904299585|    2.4365464632454925|2.9635922330097086|    3.0395284327323164|3.6126907073509016| 3.351595006934813| 4.152219140083218| 3.593619972260749| 4.168169209431345|3.0194174757281553|\n",
      "|dissatisfied|  Male|   Loyal Customer|Personal Travel|Eco Plus| 43.20424272323631|2.3931919092254565|               3.6428219042920573| 2.372964972866305|2.9028120374938333|   3.0330537740503205|    2.3852984706462754|2.9955599407992106|    3.0685742476566356|3.3399111988159844|3.2565367538233843|  3.69166255550074|3.2979773063640847|3.7760236803157374| 3.047853971386285|\n",
      "|dissatisfied|  Male|   Loyal Customer|Personal Travel|     Eco| 43.32538445904749| 2.398482487636339|               3.6451459928189145| 2.368606462976763|2.9342862949664656|   3.0188334123704355|     2.391978863220649|2.9924801842693585|    3.0538581396924327| 3.341846758349705| 3.255402750491159|3.7518460808888285| 3.342456473138676|3.7840932186166247|3.0460673396111373|\n",
      "|dissatisfied|  Male|   Loyal Customer|Personal Travel|Business| 43.24175824175824|2.4133558748943362|               3.6508875739644973|2.4099746407438714| 2.904480135249366|    3.100591715976331|    3.1538461538461537|3.4429416737109046|     2.984784446322908|3.1606086221470835| 2.791208791208791| 3.334742180896027| 3.352493660185968| 3.331360946745562| 3.210481825866441|\n",
      "|dissatisfied|  Male|   Loyal Customer|Business travel|Eco Plus|37.833792470156105|2.3875114784205693|               2.9449035812672175|3.0284664830119374| 2.985307621671258|   2.4224058769513315|    2.3774104683195594| 2.406795224977043|    2.4205693296602386|2.4912764003673096| 2.961432506887052|3.3112947658402203| 2.389348025711662| 3.282828282828283|2.4242424242424243|\n",
      "|dissatisfied|  Male|   Loyal Customer|Business travel|     Eco|  38.0231884057971|2.4109500805152977|                2.972624798711755| 3.007085346215781|3.0402576489533013|   2.4518518518518517|    2.4006441223832526|2.4454106280193235|    2.4621578099838968| 2.528180354267311|3.0183574879227053|3.1623188405797102|2.4927536231884058|3.1729468599033814| 2.457648953301127|\n",
      "|dissatisfied|  Male|   Loyal Customer|Business travel|Business| 37.91005484460695|2.4074954296160875|                2.969835466179159|3.0349177330895794| 3.029981718464351|   2.7946983546617914|      2.86800731261426| 2.902376599634369|     2.436563071297989| 2.480621572212066| 2.609689213893967|2.7085923217550274|2.4877513711151735| 2.703473491773309| 2.476051188299817|\n",
      "|dissatisfied|Female|   Loyal Customer|Personal Travel|Eco Plus|47.942708333333336|3.6119791666666665|                        3.9140625|               3.5|           3.15625|   3.0416666666666665|    3.5885416666666665|3.4427083333333335|             3.1015625|3.2083333333333335|3.6510416666666665|         3.5078125|          3.421875|3.5052083333333335|3.2916666666666665|\n",
      "|dissatisfied|Female|   Loyal Customer|Personal Travel|     Eco| 47.39191694475343| 3.586577678902484|               3.8717093066370043|3.5164998146088244| 3.110122358175751|     3.03522432332221|     3.645532072673341|3.3388950685947347|     3.088616981831665|3.2246941045606228| 3.503151649981461|3.4879495736002966| 3.349276974416018|3.4720059325176122|3.1616611049314054|\n",
      "|dissatisfied|Female|   Loyal Customer|Personal Travel|Business|              47.4|3.5829787234042554|               3.8638297872340424| 3.595744680851064|3.2085106382978723|    3.123404255319149|     3.651063829787234|3.4382978723404256|     3.046808510638298|3.0595744680851062|3.4851063829787234| 3.370212765957447|3.3361702127659574|  3.34468085106383| 3.293617021276596|\n",
      "|dissatisfied|Female|   Loyal Customer|Business travel|Eco Plus|37.976190476190474|2.4047619047619047|                2.955238095238095|3.0285714285714285|2.9914285714285715|   2.6695238095238096|    2.7304761904761903|2.7733333333333334|    2.4247619047619047|2.5085714285714285| 2.742857142857143|2.9038095238095236| 2.459047619047619|2.9247619047619047| 2.459047619047619|\n",
      "|dissatisfied|Female|   Loyal Customer|Business travel|     Eco|38.160438144329895|2.4346005154639174|               2.9871134020618557|3.0431701030927836|3.0563788659793816|    2.768041237113402|     2.852770618556701|2.8795103092783507|    2.4784149484536084| 2.497422680412371| 2.647873711340206|2.7719072164948453| 2.493556701030928| 2.756443298969072| 2.493234536082474|\n",
      "|dissatisfied|Female|   Loyal Customer|Business travel|Business|37.927425106990015|2.3965763195435095|                2.967724679029957|3.0251426533523538|3.0278174037089873|    2.787803138373752|    2.8774964336661912|2.9156562054208273|    2.4568473609129815|2.5003566333808847|2.6011055634807416|  2.69632667617689|2.4925106990014267| 2.705420827389444|2.4766405135520686|\n",
      "+------------+------+-----------------+---------------+--------+------------------+------------------+---------------------------------+------------------+------------------+---------------------+----------------------+------------------+----------------------+------------------+------------------+------------------+------------------+------------------+------------------+\n",
      "\n"
     ]
    }
   ],
   "source": [
    "all = data.groupBy(\"satisfaction\", \"gender\", \"customer_type\", \"type_of_travel\", \"class\") \\\n",
    "    .agg(F.avg(\"total\").alias(\"total\"),\n",
    "         F.avg(\"seat_comfort\").alias(\"seat_comfort\"), \n",
    "         F.avg(\"departure_arrival_time_convenient\").alias(\"departure_arrival_time_convenient\"), \n",
    "         F.avg(\"food_and_drink\").alias(\"food_and_drink\"),\n",
    "         F.avg(\"gate_location\").alias(\"gate_location\"), \n",
    "         F.avg(\"inflight_wifi_service\").alias(\"inflight_wifi_service\"), \n",
    "         F.avg(\"inflight_entertainment\").alias(\"inflight_entertainment\"), \n",
    "         F.avg(\"online_support\").alias(\"online_support\"), \n",
    "         F.avg(\"ease_of_online_booking\").alias(\"ease_of_online_booking\"), \n",
    "         F.avg(\"on_board_service\").alias(\"on_board_service\"), \n",
    "         F.avg(\"leg_room_service\").alias(\"leg_room_service\"), \n",
    "         F.avg(\"baggage_handling\").alias(\"baggage_handling\"), \n",
    "         F.avg(\"checkin_service\").alias(\"checkin_service\"), \n",
    "         F.avg(\"cleanliness\").alias(\"cleanliness\"), \n",
    "         F.avg(\"online_boarding\").alias(\"online_boarding\")\n",
    "      ).orderBy(\n",
    "          [\"satisfaction\", \"customer_type\", \"gender\", \"type_of_travel\", \"class\"], \n",
    "          ascending=False).show(43, truncate=True)"
   ]
  },
  {
   "cell_type": "code",
   "execution_count": 17,
   "metadata": {},
   "outputs": [
    {
     "name": "stdout",
     "output_type": "stream",
     "text": [
      "+------------+------+-----------------+------------------+------------------+---------------------------------+------------------+------------------+---------------------+----------------------+------------------+----------------------+------------------+------------------+------------------+------------------+------------------+------------------+\n",
      "|satisfaction|gender|customer_type    |total             |seat_comfort      |departure_arrival_time_convenient|food_and_drink    |gate_location     |inflight_wifi_service|inflight_entertainment|online_support    |ease_of_online_booking|on_board_service  |leg_room_service  |baggage_handling  |checkin_service   |cleanliness       |online_boarding   |\n",
      "+------------+------+-----------------+------------------+------------------+---------------------------------+------------------+------------------+---------------------+----------------------+------------------+----------------------+------------------+------------------+------------------+------------------+------------------+------------------+\n",
      "|dissatisfied|Female|Loyal Customer   |40.4027374216241  |2.708671050619361 |3.201636335831167                |3.1552225110873224|3.055666003976143 |2.838125095580364    |3.0529897537849826    |3.007799357699954 |2.6192078299434165    |2.680532191466585 |2.856323596880257 |2.930111637865117 |2.709206300657593 |2.9282000305857165|2.659045725646123 |\n",
      "|dissatisfied|Male  |Loyal Customer   |41.42887642482359 |2.4014836258368013|3.4083951510765336               |2.600325673964176 |2.963560702008323 |2.891803871901574    |2.518726252940112     |2.909607381943188 |2.838357155780713     |3.0385380857608104|3.0695856703455764|3.4394789216573187|3.037416319884205 |3.461805681201375 |2.849791930522888 |\n",
      "|dissatisfied|Female|disloyal Customer|40.99302537147478 |2.3883554028100678|2.26705751541494                 |2.388759729101385 |3.065500859193369 |3.0221368644496107   |2.4203982613969472    |2.999292428990195 |3.0384109976751237    |3.059132720105125 |3.141615283533812 |3.557464874153442 |3.0223390275952693|3.5708076417669057|3.0517537652885878|\n",
      "|dissatisfied|Male  |disloyal Customer|41.24294613411506 |2.3995358495175276|2.304873580065958                |2.401123732747038 |3.0106266031513376|3.021497496030292    |2.42982777574203      |3.0006107243190425|3.0465371931110297    |3.115793330890436 |3.201416880420178 |3.5728594112617564|3.10907536338097  |3.57579088799316  |3.0533773054843043|\n",
      "|satisfied   |Female|Loyal Customer   |50.90297163439892 |3.091975586572615 |2.989419180549302                |2.946545600080044 |2.9871929561258694|3.5177097403571964   |4.021686927810296     |4.043123718044924 |4.060108059432688     |3.9228575716644154|3.9335884736605133|3.9833158237030366|3.636625143829106 |3.9942718495172347|3.7745510030516782|\n",
      "|satisfied   |Male  |Loyal Customer   |50.92502656539022 |3.1002007162816323|2.9913416505962456               |2.9599354559408084|2.9924829784721947|3.618088079027116    |4.117281278287221     |4.103978905112362 |4.0614742807666575    |3.827147860994136 |3.8066039592270458|3.917234050926837 |3.640953992679759 |3.9226651973710105|3.8656381597071903|\n",
      "|satisfied   |Female|disloyal Customer|47.80169491525424 |3.701694915254237 |2.7440677966101696               |3.6610169491525424|2.8101694915254236|3.1040677966101695   |3.605762711864407     |3.033220338983051 |3.099322033898305     |3.6976271186440677|3.3935593220338984|4.089152542372881 |3.7132203389830507|4.0769491525423724|3.071864406779661 |\n",
      "|satisfied   |Male  |disloyal Customer|48.160363636363634|3.7494545454545456|2.7098181818181817               |3.708             |2.841090909090909 |3.130909090909091    |3.6523636363636363    |3.0167272727272727|3.130181818181818     |3.732727272727273 |3.3767272727272726|4.122909090909091 |3.7556363636363637|4.130909090909091 |3.102909090909091 |\n",
      "+------------+------+-----------------+------------------+------------------+---------------------------------+------------------+------------------+---------------------+----------------------+------------------+----------------------+------------------+------------------+------------------+------------------+------------------+------------------+\n",
      "\n"
     ]
    }
   ],
   "source": [
    "data.groupBy(\"satisfaction\", \"gender\", \"customer_type\") \\\n",
    "    .agg(F.avg(\"total\").alias(\"total\"),\n",
    "         F.avg(\"seat_comfort\").alias(\"seat_comfort\"), \n",
    "         F.avg(\"departure_arrival_time_convenient\").alias(\"departure_arrival_time_convenient\"), \n",
    "         F.avg(\"food_and_drink\").alias(\"food_and_drink\"),\n",
    "         F.avg(\"gate_location\").alias(\"gate_location\"), \n",
    "         F.avg(\"inflight_wifi_service\").alias(\"inflight_wifi_service\"), \n",
    "         F.avg(\"inflight_entertainment\").alias(\"inflight_entertainment\"), \n",
    "         F.avg(\"online_support\").alias(\"online_support\"), \n",
    "         F.avg(\"ease_of_online_booking\").alias(\"ease_of_online_booking\"), \n",
    "         F.avg(\"on_board_service\").alias(\"on_board_service\"), \n",
    "         F.avg(\"leg_room_service\").alias(\"leg_room_service\"), \n",
    "         F.avg(\"baggage_handling\").alias(\"baggage_handling\"), \n",
    "         F.avg(\"checkin_service\").alias(\"checkin_service\"), \n",
    "         F.avg(\"cleanliness\").alias(\"cleanliness\"), \n",
    "         F.avg(\"online_boarding\").alias(\"online_boarding\")\n",
    "      ).orderBy(['satisfaction', 'customer_type', 'gender'], \n",
    "                  ascending=True).show(truncate=False)"
   ]
  },
  {
   "cell_type": "code",
   "execution_count": 18,
   "metadata": {},
   "outputs": [
    {
     "name": "stdout",
     "output_type": "stream",
     "text": [
      "+------------+---------------+--------+-----------------+------------------+---------------------------------+------------------+------------------+---------------------+----------------------+------------------+----------------------+------------------+------------------+------------------+------------------+------------------+------------------+\n",
      "|satisfaction|type_of_travel |class   |total            |seat_comfort      |departure_arrival_time_convenient|food_and_drink    |gate_location     |inflight_wifi_service|inflight_entertainment|online_support    |ease_of_online_booking|on_board_service  |leg_room_service  |baggage_handling  |checkin_service   |cleanliness       |on_online_boarding|\n",
      "+------------+---------------+--------+-----------------+------------------+---------------------------------+------------------+------------------+---------------------+----------------------+------------------+----------------------+------------------+------------------+------------------+------------------+------------------+------------------+\n",
      "|dissatisfied|Business travel|Business|39.77972826740411|2.399963929301431 |2.7710111819165566               |2.818444150535049 |3.001382710111819 |2.864253937717927    |2.723277624143321     |2.9344715642659613|2.6483708067812914    |2.8641938198869785|2.865817001322592 |3.1813153781411567|2.8606468678610075|3.1830587952386677|2.6635205001803537|\n",
      "|dissatisfied|Business travel|Eco     |39.3514611305427 |2.4038136071307683|2.4859528376396254               |2.617341757869796 |3.0683741396818234|2.8797811124901274   |2.4971228703599233    |2.8850276430102673|2.838711497235699     |2.7337808868329008|2.9860092519462937|3.193275414645154 |2.7080559629922147|3.2011170032720297|2.8530971454360827|\n",
      "|dissatisfied|Business travel|Eco Plus|38.40510581121935|2.391333557272422 |2.759153510245213                |2.8401074907625126|3.0382935841451126|2.684917702384951    |2.5129324823647967    |2.713805844810212 |2.5979173664763184    |2.564998320456836 |2.9267719180382934|3.123950285522338 |2.509573396036278 |3.116560295599597 |2.6247900571044678|\n",
      "|dissatisfied|Personal Travel|Business|43.90216631726066|2.609364081062194 |3.690426275331936                |2.607267645003494 |2.9531795946890287|3.0971348707197763   |3.230607966457023     |3.4311670160726764|2.989517819706499     |3.140461215932914 |2.909154437456324 |3.3459119496855347|3.347309573724668 |3.3354297693920336|3.215234102026555 |\n",
      "|dissatisfied|Personal Travel|Eco     |43.9480976717774 |2.5797842135150484|3.6800113571834183               |2.5432708688245316|2.9608745031232253|3.0224304372515616   |2.582623509369676     |3.0457694491766043|3.0600795002839294    |3.3247586598523564|3.2925610448608746|3.711641113003975 |3.3427597955706987|3.7366837024417943|3.0648495173197046|\n",
      "|dissatisfied|Personal Travel|Eco Plus|43.95527950310559|2.5871635610766046|3.6857142857142855               |2.552380952380952 |2.943271221532091 |3.0335403726708075   |2.5768115942028986    |3.0658385093167704|3.0728778467908904    |3.3200828157349895|3.318840579710145 |3.661697722567288 |3.3167701863354035|3.734575569358178 |3.085714285714286 |\n",
      "|satisfied   |Business travel|Business|51.54509602594918|2.9360371502578584|2.9161785639278466               |2.9768277600168016|2.9822416166896133|3.524397358411313    |4.1353697524093995    |4.103283317387348 |4.063029426177864     |4.034046624507035 |3.9980398105150163|4.1338296035283415|3.7896529997899795|4.135766457424218 |3.816395584906541 |\n",
      "|satisfied   |Business travel|Eco     |48.15571390868303|3.9873317498020584|2.870942201108472                |3.137371338083927 |2.9498548429664817|3.6669305885457906   |3.7604908946951703    |3.6343362364740037|3.875296912114014     |3.339271575613618 |3.2730271839535496|3.4202955925046186|3.1634996041171815|3.4169965690155713|3.6600686196885723|\n",
      "|satisfied   |Business travel|Eco Plus|47.94805194805195|3.9012987012987015|2.9002597402597403               |2.8483116883116883|3.0077922077922077|3.8706493506493507   |3.7148051948051948    |3.8296103896103895|4.082597402597402     |3.18961038961039  |3.189090909090909 |3.2342857142857144|3.057142857142857 |3.2467532467532467|3.8758441558441556|\n",
      "|satisfied   |Personal Travel|Business|49.33977455716586|3.177938808373591 |3.105475040257649                |3.0185185185185186|2.9114331723027376|3.4066022544283414   |3.9130434782608696    |3.894524959742351 |3.746376811594203     |3.6666666666666665|3.747987117552335 |3.7745571658615136|3.5475040257648955|3.790660225442834 |3.638486312399356 |\n",
      "|satisfied   |Personal Travel|Eco     |50.01396557323807|3.207340045469308 |3.1462163039948035               |3.0506658005846052|2.976745696654758 |3.421955180253329    |3.9006170834686587    |3.8617083468658655|3.8426761935693405    |3.790386489119844 |3.7901266645014613|3.898538486521598 |3.571744072750893 |3.9240662552776877|3.631178954205911 |\n",
      "|satisfied   |Personal Travel|Eco Plus|50.18051575931232|3.2220630372492836|3.0878701050620823               |3.0873925501432664|2.9493791786055397|3.413562559694365    |3.9660936007640877    |3.8772683858643746|3.8748806112702963    |3.830945558739255 |3.8213944603629417|3.9068767908309456|3.596466093600764 |3.938872970391595 |3.6074498567335245|\n",
      "+------------+---------------+--------+-----------------+------------------+---------------------------------+------------------+------------------+---------------------+----------------------+------------------+----------------------+------------------+------------------+------------------+------------------+------------------+------------------+\n",
      "\n"
     ]
    }
   ],
   "source": [
    "data.groupBy(\"satisfaction\", \"type_of_travel\", \"class\") \\\n",
    "    .agg(F.avg(\"total\").alias(\"total\"),\n",
    "         F.avg(\"seat_comfort\").alias(\"seat_comfort\"), \n",
    "         F.avg(\"departure_arrival_time_convenient\").alias(\"departure_arrival_time_convenient\"), \n",
    "         F.avg(\"food_and_drink\").alias(\"food_and_drink\"),\n",
    "         F.avg(\"gate_location\").alias(\"gate_location\"), \n",
    "         F.avg(\"inflight_wifi_service\").alias(\"inflight_wifi_service\"), \n",
    "         F.avg(\"inflight_entertainment\").alias(\"inflight_entertainment\"), \n",
    "         F.avg(\"online_support\").alias(\"online_support\"), \n",
    "         F.avg(\"ease_of_online_booking\").alias(\"ease_of_online_booking\"), \n",
    "         F.avg(\"on_board_service\").alias(\"on_board_service\"), \n",
    "         F.avg(\"leg_room_service\").alias(\"leg_room_service\"), \n",
    "         F.avg(\"baggage_handling\").alias(\"baggage_handling\"), \n",
    "         F.avg(\"checkin_service\").alias(\"checkin_service\"), \n",
    "         F.avg(\"cleanliness\").alias(\"cleanliness\"), \n",
    "         F.avg(\"online_boarding\").alias(\"on_online_boarding\")\n",
    "      ).orderBy(['satisfaction', 'type_of_travel', 'class'], \n",
    "                  ascending=True).show(truncate=False)"
   ]
  },
  {
   "cell_type": "markdown",
   "metadata": {},
   "source": [
    "## Матрица корреляций"
   ]
  },
  {
   "cell_type": "code",
   "execution_count": 19,
   "metadata": {},
   "outputs": [
    {
     "data": {
      "text/plain": [
       "array([ 1.00000000e+00,  4.34951201e-01,  7.15997131e-01,  4.05299613e-01,\n",
       "        1.29130660e-01,  4.26447115e-01,  1.20278266e-01,  2.11530683e-01,\n",
       "        1.21148837e-01,  1.36135696e-01,  1.18488629e-01,  4.12136522e-02,\n",
       "        1.08475074e-01,  1.30396484e-01,  5.95781118e-01,  4.34951201e-01,\n",
       "        1.00000000e+00,  5.27381194e-01,  5.44258524e-01, -1.97370209e-03,\n",
       "        7.72029136e-02, -5.46247124e-04,  1.75548932e-03,  6.04463693e-02,\n",
       "        2.94218568e-02,  6.73961551e-02,  6.27937697e-02,  6.71257030e-02,\n",
       "       -6.23459767e-04,  4.30731949e-01,  7.15997131e-01,  5.27381194e-01,\n",
       "        1.00000000e+00,  5.23327870e-01,  2.59168699e-02,  3.67669101e-01,\n",
       "        2.85538946e-02,  4.11888960e-02,  3.86460609e-02,  7.41605296e-02,\n",
       "        3.63700033e-02,  1.18979052e-02,  3.34159032e-02,  1.35871843e-02,\n",
       "        5.10543574e-01,  4.05299613e-01,  5.44258524e-01,  5.23327870e-01,\n",
       "        1.00000000e+00, -4.08628356e-03, -2.80114218e-04,  2.90833737e-03,\n",
       "        1.44187714e-03, -2.51323520e-02, -7.40716024e-03, -4.00605049e-04,\n",
       "       -3.18591106e-02, -1.70471320e-03, -3.04324140e-03,  3.57737350e-01,\n",
       "        1.29130660e-01, -1.97370209e-03,  2.59168699e-02, -4.08628356e-03,\n",
       "        1.00000000e+00,  2.53822509e-01,  5.57340112e-01,  6.01100481e-01,\n",
       "        6.07943848e-02,  3.35891352e-02,  3.82508073e-02,  9.25084313e-02,\n",
       "        3.82634571e-02,  6.31785790e-01,  4.80831833e-01,  4.26447115e-01,\n",
       "        7.72029136e-02,  3.67669101e-01, -2.80114218e-04,  2.53822509e-01,\n",
       "        1.00000000e+00,  4.41957294e-01,  3.21731415e-01,  1.83912277e-01,\n",
       "        1.60730544e-01,  1.17212781e-01,  2.24119851e-01,  1.09451260e-01,\n",
       "        3.55714304e-01,  5.69994204e-01,  1.20278266e-01, -5.46247124e-04,\n",
       "        2.85538946e-02,  2.90833737e-03,  5.57340112e-01,  4.41957294e-01,\n",
       "        1.00000000e+00,  6.17488918e-01,  1.57929582e-01,  1.38433420e-01,\n",
       "        1.02443938e-01,  2.06823844e-01,  9.57261426e-02,  6.69842854e-01,\n",
       "        5.72662302e-01,  2.11530683e-01,  1.75548932e-03,  4.11888960e-02,\n",
       "        1.44187714e-03,  6.01100481e-01,  3.21731415e-01,  6.17488918e-01,\n",
       "        1.00000000e+00,  4.36263506e-01,  3.55122029e-01,  3.98321669e-01,\n",
       "        1.37743597e-01,  4.17674570e-01,  6.84320203e-01,  7.12916436e-01,\n",
       "        1.21148837e-01,  6.04463693e-02,  3.86460609e-02, -2.51323520e-02,\n",
       "        6.07943848e-02,  1.83912277e-01,  1.57929582e-01,  4.36263506e-01,\n",
       "        1.00000000e+00,  4.11746007e-01,  5.30447797e-01,  2.50839129e-01,\n",
       "        5.51294500e-01,  1.39505764e-01,  5.24145975e-01,  1.36135696e-01,\n",
       "        2.94218568e-02,  7.41605296e-02, -7.40716024e-03,  3.35891352e-02,\n",
       "        1.60730544e-01,  1.38433420e-01,  3.55122029e-01,  4.11746007e-01,\n",
       "        1.00000000e+00,  4.11640303e-01,  1.67941891e-01,  4.11504928e-01,\n",
       "        1.12900426e-01,  4.63045092e-01,  1.18488629e-01,  6.73961551e-02,\n",
       "        3.63700033e-02, -4.00605049e-04,  3.82508073e-02,  1.17212781e-01,\n",
       "        1.02443938e-01,  3.98321669e-01,  5.30447797e-01,  4.11640303e-01,\n",
       "        1.00000000e+00,  2.40857616e-01,  6.31803291e-01,  1.11920215e-01,\n",
       "        5.01303434e-01,  4.12136522e-02,  6.27937697e-02,  1.18979052e-02,\n",
       "       -3.18591106e-02,  9.25084313e-02,  2.24119851e-01,  2.06823844e-01,\n",
       "        1.37743597e-01,  2.50839129e-01,  1.67941891e-01,  2.40857616e-01,\n",
       "        1.00000000e+00,  2.41733974e-01,  1.84344416e-01,  3.81756255e-01,\n",
       "        1.08475074e-01,  6.71257030e-02,  3.34159032e-02, -1.70471320e-03,\n",
       "        3.82634571e-02,  1.09451260e-01,  9.57261426e-02,  4.17674570e-01,\n",
       "        5.51294500e-01,  4.11504928e-01,  6.31803291e-01,  2.41733974e-01,\n",
       "        1.00000000e+00,  1.06237678e-01,  5.01732127e-01,  1.30396484e-01,\n",
       "       -6.23459767e-04,  1.35871843e-02, -3.04324140e-03,  6.31785790e-01,\n",
       "        3.55714304e-01,  6.69842854e-01,  6.84320203e-01,  1.39505764e-01,\n",
       "        1.12900426e-01,  1.11920215e-01,  1.84344416e-01,  1.06237678e-01,\n",
       "        1.00000000e+00,  5.71567304e-01,  5.95781118e-01,  4.30731949e-01,\n",
       "        5.10543574e-01,  3.57737350e-01,  4.80831833e-01,  5.69994204e-01,\n",
       "        5.72662302e-01,  7.12916436e-01,  5.24145975e-01,  4.63045092e-01,\n",
       "        5.01303434e-01,  3.81756255e-01,  5.01732127e-01,  5.71567304e-01,\n",
       "        1.00000000e+00])"
      ]
     },
     "execution_count": 19,
     "metadata": {},
     "output_type": "execute_result"
    }
   ],
   "source": [
    "data_new = data[['seat_comfort', 'departure_arrival_time_convenient', \\\n",
    "               'food_and_drink', 'gate_location', 'inflight_wifi_service', \\\n",
    "               'inflight_entertainment', 'online_support', 'ease_of_online_booking', \\\n",
    "               'on_board_service', 'leg_room_service', 'baggage_handling', \\\n",
    "               'checkin_service', 'cleanliness', 'online_boarding', 'total']]\n",
    "\n",
    "vector_col = 'satisfaction'\n",
    "assembler = VectorAssembler(inputCols=data_new.columns, outputCol=vector_col)\n",
    "df_vector = assembler.transform(data_new).select(vector_col)\n",
    "\n",
    "corr_matrix = Correlation.corr(df_vector, vector_col)\n",
    "\n",
    "corr_matrix.collect()[0]['pearson({})'.format(vector_col)].values"
   ]
  },
  {
   "cell_type": "code",
   "execution_count": null,
   "metadata": {},
   "outputs": [],
   "source": []
  }
 ],
 "metadata": {
  "kernelspec": {
   "display_name": ".venv",
   "language": "python",
   "name": "python3"
  },
  "language_info": {
   "codemirror_mode": {
    "name": "ipython",
    "version": 3
   },
   "file_extension": ".py",
   "mimetype": "text/x-python",
   "name": "python",
   "nbconvert_exporter": "python",
   "pygments_lexer": "ipython3",
   "version": "3.11.5"
  }
 },
 "nbformat": 4,
 "nbformat_minor": 2
}
